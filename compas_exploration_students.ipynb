{
 "cells": [
  {
   "cell_type": "markdown",
   "metadata": {},
   "source": [
    "## Download the data\n",
    "\n",
    "We first need to load the data from the ProPublica repo:\n",
    "https://github.com/propublica/compas-analysis\n"
   ]
  },
  {
   "cell_type": "markdown",
   "metadata": {},
   "source": [
    "# Course Project\n",
    "\n",
    "## Dataset\n",
    "\n",
    "You will examine the ProPublica COMPAS dataset, which consists of all criminal defendants who were subject to COMPAS screening in Broward County, Florida, during 2013 and 2014. For each defendant, various information fields (‘features’) were also gathered by ProPublica. Broadly, these fields are related to the defendant’s demographic information (e.g., gender and race), criminal history (e.g., the number of prior offenses) and administrative information about the case (e.g., the case number, arrest date, risk of recidivism predicted by the COMPAS tool). Finally, the dataset also contains information about whether the defendant did actually recidivate or not.\n",
    "\n",
    "The COMPAS score uses answers to 137 questions to assign a risk score to defendants -- essentially a probability of re-arrest. The actual output is two-fold: a risk rating of 1-10 and a \"low\", \"medium\", or \"high\" risk label.\n",
    "\n",
    "Link to dataset: https://github.com/propublica/compas-analysis\n",
    "\n",
    "The file we will analyze is: compas-scores-two-years.csv\n",
    "\n",
    "Link to the ProPublica article:\n",
    "\n",
    "https://www.propublica.org/article/machine-bias-risk-assessments-in-criminal-sentencing\n",
    "\n",
    "\n",
    "## Project goal\n",
    "\n",
    "The project has three parts: \n",
    "\n",
    "- The COMPAS scores have been shown to have biases against certain racial groups. Analyze the dataset to highlight these biases.  \n",
    "\n",
    "- Based on the features in the COMPAS dataset, train classifiers to predict who will re-offend (hint: no need to use all features, just the ones you find relevant).  Study if your classifiers are more or less fair than the COMPAS classifier. \n",
    "\n",
    "- Build a fair classifier (last lecture will cover fair classification techniques). Is excluding the race from the feature set enough?\n",
    "\n",
    "\n",
    "## Today\n",
    "\n",
    "Explore the dataset and do some initial statistics. "
   ]
  },
  {
   "cell_type": "code",
   "execution_count": 1,
   "metadata": {},
   "outputs": [],
   "source": [
    "import urllib\n",
    "import os, sys, torch\n",
    "import numpy as np\n",
    "import pandas as pd\n",
    "import matplotlib.pyplot as plt\n",
    "\n",
    "import torch\n",
    "import torchvision\n",
    "import torchvision.transforms as transforms\n",
    "import matplotlib.pyplot as plt\n",
    "import numpy as np\n",
    "import torch.nn as nn\n",
    "import torch.nn.functional as F\n",
    "import torch.optim as optim\n",
    "from sklearn.model_selection import train_test_split\n",
    "import torch.utils.data as dt \n",
    "\n",
    "from pylab import rcParams\n",
    "\n",
    "from sklearn import feature_extraction\n",
    "from sklearn import preprocessing\n",
    "from random import seed, shuffle\n",
    "from datetime import datetime\n",
    "from sklearn.metrics import accuracy_score\n",
    "from sklearn.metrics import confusion_matrix\n",
    "from sklearn.naive_bayes import GaussianNB\n",
    "from sklearn.linear_model import LinearRegression\n",
    "from sklearn.neural_network import MLPClassifier\n",
    "from sklearn.neighbors import KNeighborsClassifier"
   ]
  },
  {
   "cell_type": "code",
   "execution_count": 99,
   "metadata": {
    "scrolled": false
   },
   "outputs": [
    {
     "name": "stdout",
     "output_type": "stream",
     "text": [
      "Looking for file '%s' in the current directory... compas-scores-two-years.csv\n",
      "File found in current directory..\n",
      "Index(['id', 'name', 'first', 'last', 'compas_screening_date', 'sex', 'dob',\n",
      "       'age', 'age_cat', 'race', 'juv_fel_count', 'decile_score',\n",
      "       'juv_misd_count', 'juv_other_count', 'priors_count',\n",
      "       'days_b_screening_arrest', 'c_jail_in', 'c_jail_out', 'c_case_number',\n",
      "       'c_offense_date', 'c_arrest_date', 'c_days_from_compas',\n",
      "       'c_charge_degree', 'c_charge_desc', 'is_recid', 'r_case_number',\n",
      "       'r_charge_degree', 'r_days_from_arrest', 'r_offense_date',\n",
      "       'r_charge_desc', 'r_jail_in', 'r_jail_out', 'violent_recid',\n",
      "       'is_violent_recid', 'vr_case_number', 'vr_charge_degree',\n",
      "       'vr_offense_date', 'vr_charge_desc', 'type_of_assessment',\n",
      "       'decile_score.1', 'score_text', 'screening_date',\n",
      "       'v_type_of_assessment', 'v_decile_score', 'v_score_text',\n",
      "       'v_screening_date', 'in_custody', 'out_custody', 'priors_count.1',\n",
      "       'start', 'end', 'event', 'two_year_recid'],\n",
      "      dtype='object')\n",
      "         id                 name      first       last compas_screening_date  \\\n",
      "0         1     miguel hernandez     miguel  hernandez            2013-08-14   \n",
      "1         3          kevon dixon      kevon      dixon            2013-01-27   \n",
      "2         4             ed philo         ed      philo            2013-04-14   \n",
      "3         7         marsha miles     marsha      miles            2013-11-30   \n",
      "4         8        edward riddle     edward     riddle            2014-02-19   \n",
      "...     ...                  ...        ...        ...                   ...   \n",
      "6167  10996        steven butler     steven     butler            2013-11-23   \n",
      "6168  10997      malcolm simmons    malcolm    simmons            2014-02-01   \n",
      "6169  10999      winston gregory    winston    gregory            2014-01-14   \n",
      "6170  11000          farrah jean     farrah       jean            2014-03-09   \n",
      "6171  11001  florencia sanmartin  florencia  sanmartin            2014-06-30   \n",
      "\n",
      "         sex         dob  age          age_cat              race  ...  \\\n",
      "0       Male  1947-04-18   69  Greater than 45             Other  ...   \n",
      "1       Male  1982-01-22   34          25 - 45  African-American  ...   \n",
      "2       Male  1991-05-14   24     Less than 25  African-American  ...   \n",
      "3       Male  1971-08-22   44          25 - 45             Other  ...   \n",
      "4       Male  1974-07-23   41          25 - 45         Caucasian  ...   \n",
      "...      ...         ...  ...              ...               ...  ...   \n",
      "6167    Male  1992-07-17   23     Less than 25  African-American  ...   \n",
      "6168    Male  1993-03-25   23     Less than 25  African-American  ...   \n",
      "6169    Male  1958-10-01   57  Greater than 45             Other  ...   \n",
      "6170  Female  1982-11-17   33          25 - 45  African-American  ...   \n",
      "6171  Female  1992-12-18   23     Less than 25          Hispanic  ...   \n",
      "\n",
      "      v_decile_score  v_score_text  v_screening_date  in_custody  out_custody  \\\n",
      "0                  1           Low        2013-08-14  2014-07-07   2014-07-14   \n",
      "1                  1           Low        2013-01-27  2013-01-26   2013-02-05   \n",
      "2                  3           Low        2013-04-14  2013-06-16   2013-06-16   \n",
      "3                  1           Low        2013-11-30  2013-11-30   2013-12-01   \n",
      "4                  2           Low        2014-02-19  2014-03-31   2014-04-18   \n",
      "...              ...           ...               ...         ...          ...   \n",
      "6167               5        Medium        2013-11-23  2013-11-22   2013-11-24   \n",
      "6168               5        Medium        2014-02-01  2014-01-31   2014-02-02   \n",
      "6169               1           Low        2014-01-14  2014-01-13   2014-01-14   \n",
      "6170               2           Low        2014-03-09  2014-03-08   2014-03-09   \n",
      "6171               4           Low        2014-06-30  2015-03-15   2015-03-15   \n",
      "\n",
      "      priors_count.1 start  end event two_year_recid  \n",
      "0                  0     0  327     0              0  \n",
      "1                  0     9  159     1              1  \n",
      "2                  4     0   63     0              1  \n",
      "3                  0     1  853     0              0  \n",
      "4                 14     5   40     1              1  \n",
      "...              ...   ...  ...   ...            ...  \n",
      "6167               0     1  860     0              0  \n",
      "6168               0     1  790     0              0  \n",
      "6169               0     0  808     0              0  \n",
      "6170               3     0  754     0              0  \n",
      "6171               2     0  258     0              1  \n",
      "\n",
      "[6172 rows x 53 columns]\n",
      "(6172, 53)\n",
      "0                 Other\n",
      "1      African-American\n",
      "4             Caucasian\n",
      "13             Hispanic\n",
      "408               Asian\n",
      "646     Native American\n",
      "Name: race, dtype: object\n",
      "0    Greater than 45\n",
      "1            25 - 45\n",
      "2       Less than 25\n",
      "Name: age_cat, dtype: object\n"
     ]
    }
   ],
   "source": [
    "SEED = 1234\n",
    "seed(SEED)\n",
    "np.random.seed(SEED)\n",
    "\n",
    "def check_data_file(fname):\n",
    "    files = os.listdir(\".\") # get the current directory listing\n",
    "    print(\"Looking for file '%s' in the current directory...\",fname)\n",
    "\n",
    "    if fname not in files:\n",
    "        print(\"'%s' not found! Downloading from GitHub...\",fname)\n",
    "        addr = \"https://raw.githubusercontent.com/propublica/compas-analysis/master/compas-scores-two-years.csv\"\n",
    "        response = urllib.request.urlopen(addr)\n",
    "        data = response.read()\n",
    "        fileOut = open(fname, \"wb\")\n",
    "        fileOut.write(data)\n",
    "        fileOut.close()\n",
    "        print(\"'%s' download and saved locally..\",fname)\n",
    "    else:\n",
    "        print(\"File found in current directory..\")\n",
    "\n",
    "    \n",
    "COMPAS_INPUT_FILE = \"compas-scores-two-years.csv\"\n",
    "check_data_file(COMPAS_INPUT_FILE)\n",
    "\n",
    "table = pd.read_csv('compas-scores-two-years.csv',delimiter = ',')\n",
    "#print(table.isnull())#is null checks missing values in a table, return a table of boolean\n",
    "\n",
    "df = pd.read_csv(COMPAS_INPUT_FILE)   #df is a dataframe\n",
    "print(df.keys())\n",
    "\n",
    "\n",
    "df = df.dropna(subset=[\"days_b_screening_arrest\"]) # dropping missing vals (NaN for sure, also null???)\n",
    "\n",
    "df = df[\n",
    "    (df.days_b_screening_arrest <= 30) &  \n",
    "    (df.days_b_screening_arrest >= -30) &  \n",
    "    (df.is_recid != -1) &\n",
    "    (df.c_charge_degree != 'O') &\n",
    "    (df.score_text != 'N/A')\n",
    "]    # Only keep the values that forfull these constraints\n",
    "\n",
    "df.reset_index(inplace=True, drop=True) # renumber the rows from 0 again\n",
    "\n",
    "df_backup=df.copy\n",
    "print(df)\n",
    "print(df.shape)\n",
    "\n",
    "print(df.race.drop_duplicates())\n",
    "print(df.age_cat.drop_duplicates())\n",
    "\n",
    "\n",
    "\n"
   ]
  },
  {
   "cell_type": "code",
   "execution_count": 3,
   "metadata": {},
   "outputs": [
    {
     "data": {
      "text/html": [
       "<div>\n",
       "<style scoped>\n",
       "    .dataframe tbody tr th:only-of-type {\n",
       "        vertical-align: middle;\n",
       "    }\n",
       "\n",
       "    .dataframe tbody tr th {\n",
       "        vertical-align: top;\n",
       "    }\n",
       "\n",
       "    .dataframe thead th {\n",
       "        text-align: right;\n",
       "    }\n",
       "</style>\n",
       "<table border=\"1\" class=\"dataframe\">\n",
       "  <thead>\n",
       "    <tr style=\"text-align: right;\">\n",
       "      <th></th>\n",
       "      <th>decile_score</th>\n",
       "      <th>score_text</th>\n",
       "    </tr>\n",
       "  </thead>\n",
       "  <tbody>\n",
       "    <tr>\n",
       "      <th>0</th>\n",
       "      <td>1</td>\n",
       "      <td>Low</td>\n",
       "    </tr>\n",
       "    <tr>\n",
       "      <th>1</th>\n",
       "      <td>3</td>\n",
       "      <td>Low</td>\n",
       "    </tr>\n",
       "    <tr>\n",
       "      <th>2</th>\n",
       "      <td>4</td>\n",
       "      <td>Low</td>\n",
       "    </tr>\n",
       "    <tr>\n",
       "      <th>3</th>\n",
       "      <td>1</td>\n",
       "      <td>Low</td>\n",
       "    </tr>\n",
       "    <tr>\n",
       "      <th>4</th>\n",
       "      <td>6</td>\n",
       "      <td>Medium</td>\n",
       "    </tr>\n",
       "    <tr>\n",
       "      <th>...</th>\n",
       "      <td>...</td>\n",
       "      <td>...</td>\n",
       "    </tr>\n",
       "    <tr>\n",
       "      <th>6167</th>\n",
       "      <td>7</td>\n",
       "      <td>Medium</td>\n",
       "    </tr>\n",
       "    <tr>\n",
       "      <th>6168</th>\n",
       "      <td>3</td>\n",
       "      <td>Low</td>\n",
       "    </tr>\n",
       "    <tr>\n",
       "      <th>6169</th>\n",
       "      <td>1</td>\n",
       "      <td>Low</td>\n",
       "    </tr>\n",
       "    <tr>\n",
       "      <th>6170</th>\n",
       "      <td>2</td>\n",
       "      <td>Low</td>\n",
       "    </tr>\n",
       "    <tr>\n",
       "      <th>6171</th>\n",
       "      <td>4</td>\n",
       "      <td>Low</td>\n",
       "    </tr>\n",
       "  </tbody>\n",
       "</table>\n",
       "<p>6172 rows × 2 columns</p>\n",
       "</div>"
      ],
      "text/plain": [
       "      decile_score score_text\n",
       "0                1        Low\n",
       "1                3        Low\n",
       "2                4        Low\n",
       "3                1        Low\n",
       "4                6     Medium\n",
       "...            ...        ...\n",
       "6167             7     Medium\n",
       "6168             3        Low\n",
       "6169             1        Low\n",
       "6170             2        Low\n",
       "6171             4        Low\n",
       "\n",
       "[6172 rows x 2 columns]"
      ]
     },
     "execution_count": 3,
     "metadata": {},
     "output_type": "execute_result"
    }
   ],
   "source": [
    "df[['decile_score','score_text']]"
   ]
  },
  {
   "cell_type": "markdown",
   "metadata": {},
   "source": [
    "## Load data and clean it up\n",
    "\n",
    "__Load the data__\n",
    "\n",
    "hint: data is in csv format; pandas is a python library that can read csv files\n",
    "\n",
    "you can choose to represent your data either as a DataFrame or as a dictionary\n",
    "\n",
    "- The dataset contains data on how many convicts? \n",
    "\n",
    "- What are the features the dataset contains?\n",
    "\n",
    "hint pandas: check pandas functions shape, column, head\n",
    "\n",
    "hint dictionary: check keys() function"
   ]
  },
  {
   "cell_type": "code",
   "execution_count": 4,
   "metadata": {},
   "outputs": [
    {
     "name": "stdout",
     "output_type": "stream",
     "text": [
      "shape: (6172, 53)\n",
      "index (the amount of convict = 7214) : RangeIndex(start=0, stop=6172, step=1)\n",
      "Different features of the convicts (53): Index(['id', 'name', 'first', 'last', 'compas_screening_date', 'sex', 'dob',\n",
      "       'age', 'age_cat', 'race', 'juv_fel_count', 'decile_score',\n",
      "       'juv_misd_count', 'juv_other_count', 'priors_count',\n",
      "       'days_b_screening_arrest', 'c_jail_in', 'c_jail_out', 'c_case_number',\n",
      "       'c_offense_date', 'c_arrest_date', 'c_days_from_compas',\n",
      "       'c_charge_degree', 'c_charge_desc', 'is_recid', 'r_case_number',\n",
      "       'r_charge_degree', 'r_days_from_arrest', 'r_offense_date',\n",
      "       'r_charge_desc', 'r_jail_in', 'r_jail_out', 'violent_recid',\n",
      "       'is_violent_recid', 'vr_case_number', 'vr_charge_degree',\n",
      "       'vr_offense_date', 'vr_charge_desc', 'type_of_assessment',\n",
      "       'decile_score.1', 'score_text', 'screening_date',\n",
      "       'v_type_of_assessment', 'v_decile_score', 'v_score_text',\n",
      "       'v_screening_date', 'in_custody', 'out_custody', 'priors_count.1',\n",
      "       'start', 'end', 'event', 'two_year_recid'],\n",
      "      dtype='object')\n",
      "Different features of the convicts (53): Index(['id', 'name', 'first', 'last', 'compas_screening_date', 'sex', 'dob',\n",
      "       'age', 'age_cat', 'race', 'juv_fel_count', 'decile_score',\n",
      "       'juv_misd_count', 'juv_other_count', 'priors_count',\n",
      "       'days_b_screening_arrest', 'c_jail_in', 'c_jail_out', 'c_case_number',\n",
      "       'c_offense_date', 'c_arrest_date', 'c_days_from_compas',\n",
      "       'c_charge_degree', 'c_charge_desc', 'is_recid', 'r_case_number',\n",
      "       'r_charge_degree', 'r_days_from_arrest', 'r_offense_date',\n",
      "       'r_charge_desc', 'r_jail_in', 'r_jail_out', 'violent_recid',\n",
      "       'is_violent_recid', 'vr_case_number', 'vr_charge_degree',\n",
      "       'vr_offense_date', 'vr_charge_desc', 'type_of_assessment',\n",
      "       'decile_score.1', 'score_text', 'screening_date',\n",
      "       'v_type_of_assessment', 'v_decile_score', 'v_score_text',\n",
      "       'v_screening_date', 'in_custody', 'out_custody', 'priors_count.1',\n",
      "       'start', 'end', 'event', 'two_year_recid'],\n",
      "      dtype='object')\n",
      "index.value_counts (???): African-American    3175\n",
      "Caucasian           2103\n",
      "Hispanic             509\n",
      "Other                343\n",
      "Asian                 31\n",
      "Native American       11\n",
      "Name: race, dtype: int64\n",
      "Display the first 3 rowns:   id              name   first       last compas_screening_date   sex  \\\n",
      "0   1  miguel hernandez  miguel  hernandez            2013-08-14  Male   \n",
      "1   3       kevon dixon   kevon      dixon            2013-01-27  Male   \n",
      "2   4          ed philo      ed      philo            2013-04-14  Male   \n",
      "3   7      marsha miles  marsha      miles            2013-11-30  Male   \n",
      "4   8     edward riddle  edward     riddle            2014-02-19  Male   \n",
      "\n",
      "          dob  age          age_cat              race  ...  v_decile_score  \\\n",
      "0  1947-04-18   69  Greater than 45             Other  ...               1   \n",
      "1  1982-01-22   34          25 - 45  African-American  ...               1   \n",
      "2  1991-05-14   24     Less than 25  African-American  ...               3   \n",
      "3  1971-08-22   44          25 - 45             Other  ...               1   \n",
      "4  1974-07-23   41          25 - 45         Caucasian  ...               2   \n",
      "\n",
      "   v_score_text  v_screening_date  in_custody  out_custody  priors_count.1  \\\n",
      "0           Low        2013-08-14  2014-07-07   2014-07-14               0   \n",
      "1           Low        2013-01-27  2013-01-26   2013-02-05               0   \n",
      "2           Low        2013-04-14  2013-06-16   2013-06-16               4   \n",
      "3           Low        2013-11-30  2013-11-30   2013-12-01               0   \n",
      "4           Low        2014-02-19  2014-03-31   2014-04-18              14   \n",
      "\n",
      "  start  end event two_year_recid  \n",
      "0     0  327     0              0  \n",
      "1     9  159     1              1  \n",
      "2     0   63     0              1  \n",
      "3     1  853     0              0  \n",
      "4     5   40     1              1  \n",
      "\n",
      "[5 rows x 53 columns]\n",
      "         id   name  first   last  compas_screening_date    sex    dob    age  \\\n",
      "0     False  False  False  False                  False  False  False  False   \n",
      "1     False  False  False  False                  False  False  False  False   \n",
      "2     False  False  False  False                  False  False  False  False   \n",
      "3     False  False  False  False                  False  False  False  False   \n",
      "4     False  False  False  False                  False  False  False  False   \n",
      "...     ...    ...    ...    ...                    ...    ...    ...    ...   \n",
      "7209  False  False  False  False                  False  False  False  False   \n",
      "7210  False  False  False  False                  False  False  False  False   \n",
      "7211  False  False  False  False                  False  False  False  False   \n",
      "7212  False  False  False  False                  False  False  False  False   \n",
      "7213  False  False  False  False                  False  False  False  False   \n",
      "\n",
      "      age_cat   race  ...  v_decile_score  v_score_text  v_screening_date  \\\n",
      "0       False  False  ...           False         False             False   \n",
      "1       False  False  ...           False         False             False   \n",
      "2       False  False  ...           False         False             False   \n",
      "3       False  False  ...           False         False             False   \n",
      "4       False  False  ...           False         False             False   \n",
      "...       ...    ...  ...             ...           ...               ...   \n",
      "7209    False  False  ...           False         False             False   \n",
      "7210    False  False  ...           False         False             False   \n",
      "7211    False  False  ...           False         False             False   \n",
      "7212    False  False  ...           False         False             False   \n",
      "7213    False  False  ...           False         False             False   \n",
      "\n",
      "      in_custody  out_custody  priors_count.1  start    end  event  \\\n",
      "0          False        False           False  False  False  False   \n",
      "1          False        False           False  False  False  False   \n",
      "2          False        False           False  False  False  False   \n",
      "3           True         True           False  False  False  False   \n",
      "4           True         True           False  False  False  False   \n",
      "...          ...          ...             ...    ...    ...    ...   \n",
      "7209       False        False           False  False  False  False   \n",
      "7210       False        False           False  False  False  False   \n",
      "7211       False        False           False  False  False  False   \n",
      "7212       False        False           False  False  False  False   \n",
      "7213       False        False           False  False  False  False   \n",
      "\n",
      "      two_year_recid  \n",
      "0              False  \n",
      "1              False  \n",
      "2              False  \n",
      "3              False  \n",
      "4              False  \n",
      "...              ...  \n",
      "7209           False  \n",
      "7210           False  \n",
      "7211           False  \n",
      "7212           False  \n",
      "7213           False  \n",
      "\n",
      "[7214 rows x 53 columns]\n"
     ]
    }
   ],
   "source": [
    "print(\"shape: \" + str(df.shape))   # Tuple representing the dimensionality\n",
    "print(\"index (the amount of convict = 7214) : \" + str(df.index))   # The index (row labels) of the DataFrame.\n",
    "print(\"Different features of the convicts (53): \" + str(df.columns))\n",
    "print(\"Different features of the convicts (53): \" + str(df.keys())) # we can also use keys()\n",
    "print(\"index.value_counts (???): \" + str(df['race'].value_counts())) # count the unique values in a column\n",
    "print(\"Display the first 3 rowns:\" + str(df.head(5)))\n",
    "\n",
    "table = pd.read_csv('compas-scores-two-years.csv',delimiter = ',')\n",
    "print(table.isnull())#is null checks missing values in a table, return a table of boolean\n",
    "\n",
    "\n"
   ]
  },
  {
   "cell_type": "markdown",
   "metadata": {},
   "source": [
    "__Cleanup the data__\n",
    "\n",
    "- Are there missing values (NaN)? are there outliers?  \n",
    "\n",
    "hint pandas: check isnull function in pandas\n",
    "\n",
    "hint dictionary: implement a for and check if the variable is None\n",
    "\n",
    "- Does ProPublica mentions how to clean the data?\n",
    " -> YES"
   ]
  },
  {
   "cell_type": "markdown",
   "metadata": {},
   "source": [
    "__What is the effect of the following function?__\n",
    "\n",
    "df = pd.read_csv(COMPAS_INPUT_FILE)\n",
    "\n",
    "print(df.shape)\n",
    "\n",
    "df = df.dropna(subset=[\"days_b_screening_arrest\"]) # dropping missing vals\n",
    "\n",
    "df = df[\n",
    "    (df.days_b_screening_arrest <= 30) &  \n",
    "    (df.days_b_screening_arrest >= -30) &  \n",
    "    (df.is_recid != -1) &\n",
    "    (df.c_charge_degree != 'O') &\n",
    "    (df.score_text != 'N/A')\n",
    "]\n",
    "\n",
    "df.reset_index(inplace=True, drop=True) # renumber the rows from 0 again"
   ]
  },
  {
   "cell_type": "markdown",
   "metadata": {},
   "source": [
    "## Basic analysis of demographics\n",
    "\n",
    "- What are the different races present in the dataset? "
   ]
  },
  {
   "cell_type": "code",
   "execution_count": 5,
   "metadata": {},
   "outputs": [
    {
     "name": "stdout",
     "output_type": "stream",
     "text": [
      "['Other' 'African-American' 'Caucasian' 'Hispanic' 'Asian'\n",
      " 'Native American']\n"
     ]
    }
   ],
   "source": [
    "print(df.race.drop_duplicates().values)"
   ]
  },
  {
   "cell_type": "markdown",
   "metadata": {},
   "source": [
    "- What is the number of people by age category?"
   ]
  },
  {
   "cell_type": "code",
   "execution_count": 6,
   "metadata": {},
   "outputs": [
    {
     "name": "stdout",
     "output_type": "stream",
     "text": [
      "number of people by age category: \n",
      "25 - 45            3532\n",
      "Less than 25       1347\n",
      "Greater than 45    1293\n",
      "Name: age_cat, dtype: int64\n"
     ]
    }
   ],
   "source": [
    "print(\"number of people by age category: \\n\" + str(df['age_cat'].value_counts())) # count the unique values in a column"
   ]
  },
  {
   "cell_type": "markdown",
   "metadata": {},
   "source": [
    "- What is the number of people by race?"
   ]
  },
  {
   "cell_type": "code",
   "execution_count": 7,
   "metadata": {},
   "outputs": [
    {
     "name": "stdout",
     "output_type": "stream",
     "text": [
      "number of people by race: \n",
      "African-American    3175\n",
      "Caucasian           2103\n",
      "Hispanic             509\n",
      "Other                343\n",
      "Asian                 31\n",
      "Native American       11\n",
      "Name: race, dtype: int64\n"
     ]
    }
   ],
   "source": [
    "print(\"number of people by race: \\n\" + str(df['race'].value_counts())) # count the unique values in a column"
   ]
  },
  {
   "cell_type": "markdown",
   "metadata": {},
   "source": [
    "- What is the number of people by COMPAS score (decile_score)?"
   ]
  },
  {
   "cell_type": "code",
   "execution_count": 8,
   "metadata": {},
   "outputs": [
    {
     "name": "stdout",
     "output_type": "stream",
     "text": [
      "number of people by COMPAS score: \n",
      "1     1286\n",
      "2      822\n",
      "4      666\n",
      "3      647\n",
      "5      582\n",
      "6      529\n",
      "7      496\n",
      "9      420\n",
      "8      420\n",
      "10     304\n",
      "Name: decile_score, dtype: int64\n"
     ]
    }
   ],
   "source": [
    "print(\"number of people by COMPAS score: \\n\" + str(df['decile_score'].value_counts())) # count the unique values in a column"
   ]
  },
  {
   "cell_type": "markdown",
   "metadata": {},
   "source": [
    "- What is the number of people by COMPAS risk category (score_text)?"
   ]
  },
  {
   "cell_type": "code",
   "execution_count": 9,
   "metadata": {},
   "outputs": [
    {
     "name": "stdout",
     "output_type": "stream",
     "text": [
      "number of people by COMPAS risk category: \n",
      "Low       3421\n",
      "Medium    1607\n",
      "High      1144\n",
      "Name: score_text, dtype: int64\n"
     ]
    }
   ],
   "source": [
    "print(\"number of people by COMPAS risk category: \\n\" + str(df['score_text'].value_counts())) # count the unique values in a column"
   ]
  },
  {
   "cell_type": "markdown",
   "metadata": {},
   "source": [
    "## Basic investigations of gender and race bias in COMPAS scores\n",
    "\n",
    "decile_score -- is the score given by the COMPAS algorithm that estimates the risk to re-offend.\n",
    "\n",
    "score_text -- is the level of risk: Low, Medium, High\n",
    "\n",
    "two_years_recid -- is the ground truth data on whether the offender recidivated or not\n",
    "\n",
    "- What is the mean COMPAS score (decile_score) per race and gender? "
   ]
  },
  {
   "cell_type": "code",
   "execution_count": 10,
   "metadata": {},
   "outputs": [
    {
     "name": "stdout",
     "output_type": "stream",
     "text": [
      "('African-American', 'Female') \n",
      "\n",
      "decile_score    4.639344\n",
      "dtype: float64 \n",
      "\n",
      "\n",
      "number per group: 549 \n",
      "\n",
      "\n",
      "('African-American', 'Male') \n",
      "\n",
      "decile_score    5.410129\n",
      "dtype: float64 \n",
      "\n",
      "\n",
      "number per group: 2626 \n",
      "\n",
      "\n",
      "('Asian', 'Female') \n",
      "\n",
      "decile_score    2.0\n",
      "dtype: float64 \n",
      "\n",
      "\n",
      "number per group: 2 \n",
      "\n",
      "\n",
      "('Asian', 'Male') \n",
      "\n",
      "decile_score    2.896552\n",
      "dtype: float64 \n",
      "\n",
      "\n",
      "number per group: 29 \n",
      "\n",
      "\n",
      "('Caucasian', 'Female') \n",
      "\n",
      "decile_score    3.792531\n",
      "dtype: float64 \n",
      "\n",
      "\n",
      "number per group: 482 \n",
      "\n",
      "\n",
      "('Caucasian', 'Male') \n",
      "\n",
      "decile_score    3.588526\n",
      "dtype: float64 \n",
      "\n",
      "\n",
      "number per group: 1621 \n",
      "\n",
      "\n",
      "('Hispanic', 'Female') \n",
      "\n",
      "decile_score    2.682927\n",
      "dtype: float64 \n",
      "\n",
      "\n",
      "number per group: 82 \n",
      "\n",
      "\n",
      "('Hispanic', 'Male') \n",
      "\n",
      "decile_score    3.517564\n",
      "dtype: float64 \n",
      "\n",
      "\n",
      "number per group: 427 \n",
      "\n",
      "\n",
      "('Native American', 'Female') \n",
      "\n",
      "decile_score    8.5\n",
      "dtype: float64 \n",
      "\n",
      "\n",
      "number per group: 2 \n",
      "\n",
      "\n",
      "('Native American', 'Male') \n",
      "\n",
      "decile_score    6.0\n",
      "dtype: float64 \n",
      "\n",
      "\n",
      "number per group: 9 \n",
      "\n",
      "\n",
      "('Other', 'Female') \n",
      "\n",
      "decile_score    2.741379\n",
      "dtype: float64 \n",
      "\n",
      "\n",
      "number per group: 58 \n",
      "\n",
      "\n",
      "('Other', 'Male') \n",
      "\n",
      "decile_score    2.919298\n",
      "dtype: float64 \n",
      "\n",
      "\n",
      "number per group: 285 \n",
      "\n",
      "\n"
     ]
    }
   ],
   "source": [
    "tab = df[['decile_score','race','sex']]\n",
    "stat = tab.groupby(['race', 'sex'])  \n",
    "\n",
    "\n",
    "for key, item in stat:\n",
    "    print(key, \"\\n\")\n",
    "    print(stat.get_group(key).mean(), \"\\n\\n\")\n",
    "    print(\"number per group:\",stat.get_group(key).count()['decile_score'], \"\\n\\n\")"
   ]
  },
  {
   "cell_type": "markdown",
   "metadata": {},
   "source": [
    "- What is the distribution (histogram) of decile_score per race and gender? "
   ]
  },
  {
   "cell_type": "code",
   "execution_count": 11,
   "metadata": {},
   "outputs": [
    {
     "data": {
      "image/png": "[encoded data removed]",
      "text/plain": [
       "<Figure size 432x288 with 1 Axes>"
      ]
     },
     "metadata": {
      "needs_background": "light"
     },
     "output_type": "display_data"
    },
    {
     "data": {
      "image/png": "[encoded data removed]",
      "text/plain": [
       "<Figure size 432x288 with 1 Axes>"
      ]
     },
     "metadata": {
      "needs_background": "light"
     },
     "output_type": "display_data"
    },
    {
     "data": {
      "image/png": "[encoded data removed]",
      "text/plain": [
       "<Figure size 432x288 with 1 Axes>"
      ]
     },
     "metadata": {
      "needs_background": "light"
     },
     "output_type": "display_data"
    },
    {
     "data": {
      "image/png": "[encoded data removed]",
      "text/plain": [
       "<Figure size 432x288 with 1 Axes>"
      ]
     },
     "metadata": {
      "needs_background": "light"
     },
     "output_type": "display_data"
    },
    {
     "data": {
      "image/png": "[encoded data removed]",
      "text/plain": [
       "<Figure size 432x288 with 1 Axes>"
      ]
     },
     "metadata": {
      "needs_background": "light"
     },
     "output_type": "display_data"
    },
    {
     "data": {
      "image/png": "[encoded data removed]",
      "text/plain": [
       "<Figure size 432x288 with 1 Axes>"
      ]
     },
     "metadata": {
      "needs_background": "light"
     },
     "output_type": "display_data"
    },
    {
     "data": {
      "image/png": "[encoded data removed]",
      "text/plain": [
       "<Figure size 432x288 with 1 Axes>"
      ]
     },
     "metadata": {
      "needs_background": "light"
     },
     "output_type": "display_data"
    },
    {
     "data": {
      "image/png": "[encoded data removed]",
      "text/plain": [
       "<Figure size 432x288 with 1 Axes>"
      ]
     },
     "metadata": {
      "needs_background": "light"
     },
     "output_type": "display_data"
    },
    {
     "data": {
      "image/png": "[encoded data removed]",
      "text/plain": [
       "<Figure size 432x288 with 1 Axes>"
      ]
     },
     "metadata": {
      "needs_background": "light"
     },
     "output_type": "display_data"
    },
    {
     "data": {
      "image/png": "[encoded data removed]",
      "text/plain": [
       "<Figure size 432x288 with 1 Axes>"
      ]
     },
     "metadata": {
      "needs_background": "light"
     },
     "output_type": "display_data"
    },
    {
     "data": {
      "image/png": "[encoded data removed]",
      "text/plain": [
       "<Figure size 432x288 with 1 Axes>"
      ]
     },
     "metadata": {
      "needs_background": "light"
     },
     "output_type": "display_data"
    },
    {
     "data": {
      "image/png": "[encoded data removed]",
      "text/plain": [
       "<Figure size 432x288 with 1 Axes>"
      ]
     },
     "metadata": {
      "needs_background": "light"
     },
     "output_type": "display_data"
    }
   ],
   "source": [
    "labels=list(stat.groups.keys())\n",
    "\n",
    "\n",
    "for key, item in stat:\n",
    "    stat.get_group(key).hist(bins=10)\n",
    "    plt.title(key)\n",
    "\n",
    "\n",
    "\n",
    "#stat['decile_score'].hist(bins=10, label=labels)\n"
   ]
  },
  {
   "cell_type": "markdown",
   "metadata": {},
   "source": [
    "We can see there that in pretty much all groupes we have a large portion of people were assigned a low score and only a few had been assigned a high score excapet in the group *'African-American', 'Male'*. In this group we have a near equal distribution of scores."
   ]
  },
  {
   "cell_type": "markdown",
   "metadata": {},
   "source": [
    "The two_year_recid field records whether or not each person was re-arrested for a violent offense within two years, which is what COMPAS is trying to predict.\n",
    "\n",
    "- How many people were re-arrested? "
   ]
  },
  {
   "cell_type": "code",
   "execution_count": 12,
   "metadata": {},
   "outputs": [
    {
     "name": "stdout",
     "output_type": "stream",
     "text": [
      "number of people were re-arrested: 2809\n"
     ]
    }
   ],
   "source": [
    "df_rearrest = df[df.two_year_recid==1]\n",
    "df_rearrest = df_rearrest[['decile_score','race','sex']]\n",
    "print(\"number of people were re-arrested:\",df_rearrest['decile_score'].shape[0])"
   ]
  },
  {
   "cell_type": "markdown",
   "metadata": {},
   "source": [
    "- Compute the recidivism (i.e., people that got re-arrested) rates by race and gender"
   ]
  },
  {
   "cell_type": "code",
   "execution_count": 13,
   "metadata": {},
   "outputs": [
    {
     "name": "stdout",
     "output_type": "stream",
     "text": [
      "('African-American', 'Female') \n",
      "\n",
      "number per group: 203 \n",
      "\n",
      "recidivism rate: 0.3697632058287796 \n",
      "\n",
      "\n",
      "('African-American', 'Male') \n",
      "\n",
      "number per group: 1458 \n",
      "\n",
      "recidivism rate: 0.5552170601675552 \n",
      "\n",
      "\n",
      "('Asian', 'Female') \n",
      "\n",
      "number per group: 1 \n",
      "\n",
      "recidivism rate: 0.5 \n",
      "\n",
      "\n",
      "('Asian', 'Male') \n",
      "\n",
      "number per group: 7 \n",
      "\n",
      "recidivism rate: 0.2413793103448276 \n",
      "\n",
      "\n",
      "('Caucasian', 'Female') \n",
      "\n",
      "number per group: 170 \n",
      "\n",
      "recidivism rate: 0.35269709543568467 \n",
      "\n",
      "\n",
      "('Caucasian', 'Male') \n",
      "\n",
      "number per group: 652 \n",
      "\n",
      "recidivism rate: 0.4022208513263418 \n",
      "\n",
      "\n",
      "('Hispanic', 'Female') \n",
      "\n",
      "number per group: 26 \n",
      "\n",
      "recidivism rate: 0.3170731707317073 \n",
      "\n",
      "\n",
      "('Hispanic', 'Male') \n",
      "\n",
      "number per group: 163 \n",
      "\n",
      "recidivism rate: 0.38173302107728335 \n",
      "\n",
      "\n",
      "('Native American', 'Female') \n",
      "\n",
      "number per group: 2 \n",
      "\n",
      "recidivism rate: 1.0 \n",
      "\n",
      "\n",
      "('Native American', 'Male') \n",
      "\n",
      "number per group: 3 \n",
      "\n",
      "recidivism rate: 0.3333333333333333 \n",
      "\n",
      "\n",
      "('Other', 'Female') \n",
      "\n",
      "number per group: 11 \n",
      "\n",
      "recidivism rate: 0.1896551724137931 \n",
      "\n",
      "\n",
      "('Other', 'Male') \n",
      "\n",
      "number per group: 113 \n",
      "\n",
      "recidivism rate: 0.39649122807017545 \n",
      "\n",
      "\n"
     ]
    }
   ],
   "source": [
    "df_rearrest_bycat = df_rearrest.groupby(['race', 'sex'])  \n",
    "\n",
    "for key, item in stat:\n",
    "    print(key, \"\\n\")\n",
    "    #print(df_rearrest_bycat.get_group(key).mean(), \"\\n\\n\")\n",
    "    print(\"number per group:\",df_rearrest_bycat.get_group(key).count()['race'],\"\\n\")\n",
    "    print(\"recidivism rate:\",df_rearrest_bycat.get_group(key).count()['race']/stat.get_group(key).count()['race'], \"\\n\\n\")"
   ]
  },
  {
   "cell_type": "markdown",
   "metadata": {},
   "source": [
    "- What is the accuracy of the COMPAS scores to predict recidivism"
   ]
  },
  {
   "cell_type": "markdown",
   "metadata": {},
   "source": [
    "We calculated the accuracy using the same way *ProPulica* used. That is, if a person is categorised as *Medium* or *High* as score category, it's counted as a positive prediction. A person in *Low* category is a negative prediction."
   ]
  },
  {
   "cell_type": "code",
   "execution_count": 14,
   "metadata": {},
   "outputs": [],
   "source": [
    "tab = df[['score_text','race','sex','two_year_recid']]\n",
    "stat = tab.groupby(['race', 'sex'])  "
   ]
  },
  {
   "cell_type": "code",
   "execution_count": 15,
   "metadata": {},
   "outputs": [
    {
     "name": "stdout",
     "output_type": "stream",
     "text": [
      "global accurecy 0.6607258587167855\n"
     ]
    }
   ],
   "source": [
    "accurecy = tab[(((df.score_text=='High') | (df.score_text=='Medium')) & (df.two_year_recid==1)) | ((df.score_text=='Low') & (df.two_year_recid==0))].count()['score_text']/tab.count()['score_text']\n",
    "print(\"global accuracy\", accurecy)"
   ]
  },
  {
   "cell_type": "markdown",
   "metadata": {},
   "source": [
    "We can see here the accurecy is not high at all."
   ]
  },
  {
   "cell_type": "markdown",
   "metadata": {},
   "source": [
    "- Is the accuracy higher/lower if we look at particular races/genders?"
   ]
  },
  {
   "cell_type": "code",
   "execution_count": 16,
   "metadata": {},
   "outputs": [
    {
     "name": "stdout",
     "output_type": "stream",
     "text": [
      "('African-American', 'Female') \n",
      " 0.6484517304189436 \n",
      "\n",
      "\n",
      "('African-American', 'Male') \n",
      " 0.6492764661081493 \n",
      "\n",
      "\n",
      "('Asian', 'Female') \n",
      " 0.5 \n",
      "\n",
      "\n",
      "('Asian', 'Male') \n",
      " 0.8620689655172413 \n",
      "\n",
      "\n",
      "('Caucasian', 'Female') \n",
      " 0.6556016597510373 \n",
      "\n",
      "\n",
      "('Caucasian', 'Male') \n",
      " 0.6767427513880321 \n",
      "\n",
      "\n",
      "('Hispanic', 'Female') \n",
      " 0.6951219512195121 \n",
      "\n",
      "\n",
      "('Hispanic', 'Male') \n",
      " 0.6557377049180327 \n",
      "\n",
      "\n",
      "('Native American', 'Female') \n",
      " 1.0 \n",
      "\n",
      "\n",
      "('Native American', 'Male') \n",
      " 0.6666666666666666 \n",
      "\n",
      "\n",
      "('Other', 'Female') \n",
      " 0.7931034482758621 \n",
      "\n",
      "\n",
      "('Other', 'Male') \n",
      " 0.656140350877193 \n",
      "\n",
      "\n"
     ]
    },
    {
     "name": "stderr",
     "output_type": "stream",
     "text": [
      "/usr/local/lib/python3.7/site-packages/ipykernel_launcher.py:6: UserWarning: Boolean Series key will be reindexed to match DataFrame index.\n",
      "  \n"
     ]
    },
    {
     "data": {
      "text/plain": [
       "Text(0.5, 1.0, 'Accurecy per group by COMPAS')"
      ]
     },
     "execution_count": 16,
     "metadata": {},
     "output_type": "execute_result"
    },
    {
     "data": {
      "image/png": "[encoded data removed]",
      "text/plain": [
       "<Figure size 432x288 with 1 Axes>"
      ]
     },
     "metadata": {
      "needs_background": "light"
     },
     "output_type": "display_data"
    }
   ],
   "source": [
    "keys=[]\n",
    "acc_list_compas=[]\n",
    "for key, item in stat:\n",
    "    keys.append(key)\n",
    "    stat_group=stat.get_group(key)\n",
    "    TPredic=stat_group[(((df.score_text=='High') | (df.score_text=='Medium')) & (stat_group.two_year_recid==1)) | ((stat_group.score_text=='Low') & (stat_group.two_year_recid==0))].count()['score_text']\n",
    "    Predic=stat_group.count()['score_text']\n",
    "    if TPredic==0 :\n",
    "        accurecy = 0\n",
    "    else:\n",
    "        accurecy=TPredic/Predic\n",
    "    print(key,'\\n',accurecy, '\\n\\n')\n",
    "    acc_list_compas.append(accurecy)\n",
    "\n",
    "plt.plot(acc_list_compas)\n",
    "plt.xlim(0,12)\n",
    "plt.xticks(range(0, 12),keys,rotation=90)\n",
    "plt.title(\"Accurecy per group by COMPAS\")"
   ]
  },
  {
   "cell_type": "markdown",
   "metadata": {},
   "source": [
    "As we can see in the graph, the accuracy is not homogeneous among races and genders. The model has a poorer performance for the race *African-American* than *Caucasian*."
   ]
  },
  {
   "cell_type": "markdown",
   "metadata": {},
   "source": [
    "- What about false positives and false negatives?"
   ]
  },
  {
   "cell_type": "code",
   "execution_count": 17,
   "metadata": {
    "scrolled": false
   },
   "outputs": [
    {
     "name": "stdout",
     "output_type": "stream",
     "text": [
      "('African-American', 'Female') \n",
      " 0.48161764705882354 \n",
      "\n",
      "\n",
      "('African-American', 'Male') \n",
      " 0.32755298651252407 \n",
      "\n",
      "\n",
      "('Asian', 'Female') \n",
      " 0 \n",
      "\n",
      "\n",
      "('Asian', 'Male') \n",
      " 0.2857142857142857 \n",
      "\n",
      "\n",
      "('Caucasian', 'Female') \n",
      " 0.4891304347826087 \n",
      "\n",
      "\n",
      "('Caucasian', 'Male') \n",
      " 0.375 \n",
      "\n",
      "\n",
      "('Hispanic', 'Female') \n",
      " 0.42857142857142855 \n",
      "\n",
      "\n",
      "('Hispanic', 'Male') \n",
      " 0.44029850746268656 \n",
      "\n",
      "\n",
      "('Native American', 'Female') \n",
      " 0 \n",
      "\n",
      "\n",
      "('Native American', 'Male') \n",
      " 0.5 \n",
      "\n",
      "\n",
      "('Other', 'Female') \n",
      " 0.5454545454545454 \n",
      "\n",
      "\n",
      "('Other', 'Male') \n",
      " 0.3728813559322034 \n",
      "\n",
      "\n"
     ]
    },
    {
     "name": "stderr",
     "output_type": "stream",
     "text": [
      "/usr/local/lib/python3.7/site-packages/ipykernel_launcher.py:6: UserWarning: Boolean Series key will be reindexed to match DataFrame index.\n",
      "  \n",
      "/usr/local/lib/python3.7/site-packages/ipykernel_launcher.py:7: UserWarning: Boolean Series key will be reindexed to match DataFrame index.\n",
      "  import sys\n"
     ]
    },
    {
     "data": {
      "text/plain": [
       "Text(0.5, 1.0, 'False Positive rate per group by COMPAS')"
      ]
     },
     "execution_count": 17,
     "metadata": {},
     "output_type": "execute_result"
    },
    {
     "data": {
      "image/png": "[encoded data removed]",
      "text/plain": [
       "<Figure size 432x288 with 1 Axes>"
      ]
     },
     "metadata": {
      "needs_background": "light"
     },
     "output_type": "display_data"
    }
   ],
   "source": [
    "FP_list_compas=[]\n",
    "\n",
    "def make_FP_list(FP_list,stat):\n",
    "    for key, item in stat:\n",
    "        stat_group=stat.get_group(key)\n",
    "        FPos=stat_group[(((df.score_text=='High') | (df.score_text=='Medium')) & (stat_group.two_year_recid==0))].count()['score_text']\n",
    "        Pos=stat_group[((df.score_text=='High') | (df.score_text=='Medium'))].count()['score_text']\n",
    "        if FPos==0 :\n",
    "            accurecy = 0\n",
    "        else:\n",
    "            accurecy=FPos/Pos\n",
    "        print(key,'\\n',accurecy, '\\n\\n')\n",
    "        FP_list_compas.append(accurecy)\n",
    "\n",
    "make_FP_list(FP_list_compas,stat)\n",
    "plt.plot(FP_list_compas)\n",
    "plt.xlim(0,12)\n",
    "plt.xticks(range(0, 12),keys,rotation=90)\n",
    "plt.title(\"False Positive rate per group by COMPAS\")"
   ]
  },
  {
   "cell_type": "markdown",
   "metadata": {},
   "source": [
    "Here except 2 groups *'Asian', 'Female'* and *'Native American', 'Female'* where the model didn't make any positive prediction, We can see that the false positive rates are still different between races and genders."
   ]
  },
  {
   "cell_type": "code",
   "execution_count": 18,
   "metadata": {},
   "outputs": [
    {
     "name": "stdout",
     "output_type": "stream",
     "text": [
      "('African-American', 'Female') \n",
      " 0.12867647058823528 \n",
      "\n",
      "\n",
      "('African-American', 'Male') \n",
      " 0.11303789338471419 \n",
      "\n",
      "\n",
      "('Asian', 'Female') \n",
      " 0 \n",
      "\n",
      "\n",
      "('Asian', 'Male') \n",
      " 0.14285714285714285 \n",
      "\n",
      "\n",
      "('Caucasian', 'Female') \n",
      " 0.09239130434782608 \n",
      "\n",
      "\n",
      "('Caucasian', 'Male') \n",
      " 0.0859375 \n",
      "\n",
      "\n",
      "('Hispanic', 'Female') \n",
      " 0 \n",
      "\n",
      "\n",
      "('Hispanic', 'Male') \n",
      " 0.14925373134328357 \n",
      "\n",
      "\n",
      "('Native American', 'Female') \n",
      " 0 \n",
      "\n",
      "\n",
      "('Native American', 'Male') \n",
      " 0.16666666666666666 \n",
      "\n",
      "\n",
      "('Other', 'Female') \n",
      " 0.09090909090909091 \n",
      "\n",
      "\n",
      "('Other', 'Male') \n",
      " 0.03389830508474576 \n",
      "\n",
      "\n"
     ]
    },
    {
     "name": "stderr",
     "output_type": "stream",
     "text": [
      "/usr/local/lib/python3.7/site-packages/ipykernel_launcher.py:4: UserWarning: Boolean Series key will be reindexed to match DataFrame index.\n",
      "  after removing the cwd from sys.path.\n",
      "/usr/local/lib/python3.7/site-packages/ipykernel_launcher.py:5: UserWarning: Boolean Series key will be reindexed to match DataFrame index.\n",
      "  \"\"\"\n"
     ]
    },
    {
     "data": {
      "text/plain": [
       "Text(0.5, 1.0, 'False Strict Positive rate per group by COMPAS')"
      ]
     },
     "execution_count": 18,
     "metadata": {},
     "output_type": "execute_result"
    },
    {
     "data": {
      "image/png": "[encoded data removed]",
      "text/plain": [
       "<Figure size 432x288 with 1 Axes>"
      ]
     },
     "metadata": {
      "needs_background": "light"
     },
     "output_type": "display_data"
    }
   ],
   "source": [
    "strictFP_list_compas=[]\n",
    "for key, item in stat:\n",
    "    stat_group=stat.get_group(key)\n",
    "    FPos=stat_group[(((df.score_text=='High')) & (stat_group.two_year_recid==0))].count()['score_text']\n",
    "    Pos=stat_group[((df.score_text=='High') | (df.score_text=='Medium'))].count()['score_text']\n",
    "    if FPos==0 :\n",
    "        accurecy = 0\n",
    "    else:\n",
    "        accurecy=FPos/Pos\n",
    "    print(key,'\\n',accurecy, '\\n\\n')\n",
    "    strictFP_list_compas.append(accurecy)\n",
    "\n",
    "plt.plot(strictFP_list_compas)\n",
    "plt.xlim(0,12)\n",
    "plt.xticks(range(0, 12),keys,rotation=90)\n",
    "plt.title(\"False Strict Positive rate per group by COMPAS\")"
   ]
  },
  {
   "cell_type": "markdown",
   "metadata": {},
   "source": [
    "Here, by only look at the *High* score category, we can see that *African-American* has a higher false positive rate than other races, and the *'Hispanic', 'Male'* group has the highest false positive rate overall. This means the model categorises the previously mentioned gender race combination at a higher risk than it is in reality."
   ]
  },
  {
   "cell_type": "code",
   "execution_count": 19,
   "metadata": {
    "scrolled": true
   },
   "outputs": [
    {
     "name": "stdout",
     "output_type": "stream",
     "text": [
      "('African-American', 'Female') \n",
      " 0.22382671480144403 \n",
      "\n",
      "\n",
      "('African-American', 'Male') \n",
      " 0.3844714686623012 \n",
      "\n",
      "\n",
      "('Asian', 'Female') \n",
      " 0.5 \n",
      "\n",
      "\n",
      "('Asian', 'Male') \n",
      " 0.09090909090909091 \n",
      "\n",
      "\n",
      "('Caucasian', 'Female') \n",
      " 0.2550335570469799 \n",
      "\n",
      "\n",
      "('Caucasian', 'Male') \n",
      " 0.2993688007213706 \n",
      "\n",
      "\n",
      "('Hispanic', 'Female') \n",
      " 0.29333333333333333 \n",
      "\n",
      "\n",
      "('Hispanic', 'Male') \n",
      " 0.3003412969283277 \n",
      "\n",
      "\n",
      "('Native American', 'Female') \n",
      " 0 \n",
      "\n",
      "\n",
      "('Native American', 'Male') \n",
      " 0 \n",
      "\n",
      "\n",
      "('Other', 'Female') \n",
      " 0.1276595744680851 \n",
      "\n",
      "\n",
      "('Other', 'Male') \n",
      " 0.336283185840708 \n",
      "\n",
      "\n"
     ]
    },
    {
     "data": {
      "text/plain": [
       "Text(0.5, 1.0, 'False Nagative rate per group by COMPAS')"
      ]
     },
     "execution_count": 19,
     "metadata": {},
     "output_type": "execute_result"
    },
    {
     "data": {
      "image/png": "[encoded data removed]",
      "text/plain": [
       "<Figure size 432x288 with 1 Axes>"
      ]
     },
     "metadata": {
      "needs_background": "light"
     },
     "output_type": "display_data"
    }
   ],
   "source": [
    "FN_list_compas=[]\n",
    "for key, item in stat:\n",
    "    stat_group=stat.get_group(key)\n",
    "    FNeg=stat_group[((stat_group.score_text=='Low') & (stat_group.two_year_recid==1))].count()['score_text']\n",
    "    Neg=stat_group[(stat_group.score_text=='Low')].count()['score_text']\n",
    "    if FNeg==0 :\n",
    "        accurecy = 0\n",
    "    else:\n",
    "        accurecy=FNeg/Neg\n",
    "    print(key,'\\n',accurecy, '\\n\\n')\n",
    "    FN_list_compas.append(accurecy)\n",
    "\n",
    "plt.plot(FN_list_compas)\n",
    "plt.xlim(0,12)\n",
    "plt.xticks(range(0, 11),keys,rotation=90)\n",
    "plt.title(\"False Nagative rate per group by COMPAS\")"
   ]
  },
  {
   "cell_type": "markdown",
   "metadata": {},
   "source": [
    "## Part Two: Standard classifiers\n",
    "\n",
    "### Preparing the data:\n",
    "\n",
    "To make a classifier it is required that we first choose which features of the data set will act as input.\n",
    "We choose for the next features:\n",
    "\n",
    "*sex, age, race, juv_fel_count, juv_misd_count, juv_other_count, priors_count, days_b_screening_arrest, c_jail_in, c_jail_out , c_days_from_compas, c_charge_degree, in_custody, out_custody and priors_count*.\n",
    "\n",
    "All relate to the person prior to their second crime, if there was one.\n",
    "We adopted these since they represented the criminal defendants well and because they can have influence on future crime.\n",
    "Likewise we assume that other features like _id_ or *c_case_number* are independent of future crimes.\n",
    "\n",
    "Before these features can act as input to a classifier, the data will first have to be manipulated.\n",
    "For example *c_jail_in* and *c_jail_out* are transformed to a new column *jail_time*, that is; the amount of day spend in jail. In the same manner *custody_time* is defined by *in_custody*  and *out_custody*.\n",
    "When the defendant has not spend any time in jail or custody, then *jail_time* or *custody_time* will be 0."
   ]
  },
  {
   "cell_type": "code",
   "execution_count": 20,
   "metadata": {},
   "outputs": [],
   "source": [
    "#df = df.dropna(subset=[\"days_b_screening_arrest\"]) #TODO remove\n",
    "df=df_backup\n",
    "# Fill in NAN with 0, such that the diffence in date will be 0.\n",
    "df['c_jail_in'].fillna(0)\n",
    "df['c_jail_out'].fillna(0)\n",
    "df['in_custody'].fillna(0)\n",
    "df['out_custody'].fillna(0)\n",
    "\n",
    "length =len(df['race'])\n",
    "\n",
    "df = df.assign(jail_time=pd.Series(np.random.randn(length)).values)\n",
    "df['jail_time'] = (df['c_jail_out'].apply(pd.Timestamp) - df['c_jail_in'].apply(pd.Timestamp)).dt.days\n",
    "\n",
    "df = df.assign(custody_time=pd.Series(np.random.randn(length)).values)\n",
    "df['custody_time'] = (df['out_custody'].apply(pd.Timestamp) - df['in_custody'].apply(pd.Timestamp)).dt.days"
   ]
  },
  {
   "cell_type": "markdown",
   "metadata": {},
   "source": [
    "Further some feature are expresed in strings and not number. Hence we transfer them, such that; the classifier can have them as input."
   ]
  },
  {
   "cell_type": "code",
   "execution_count": 21,
   "metadata": {},
   "outputs": [],
   "source": [
    "df['sex'].replace({'Male': 0, 'Female': 1}, inplace= True)\n",
    "df['race'].replace({'African-American':0, 'Caucasian':1, 'Hispanic':2, 'Other':3, 'Asian':4, 'Native American':5}, inplace= True)\n",
    "df['c_charge_degree'].replace({'F':0, 'M':1}, inplace= True)"
   ]
  },
  {
   "cell_type": "markdown",
   "metadata": {},
   "source": [
    "Now we can collect the features and normalise them, because the range of possible values is different. Of course the label of the samples will be the recidivism within two years."
   ]
  },
  {
   "cell_type": "code",
   "execution_count": 22,
   "metadata": {},
   "outputs": [
    {
     "name": "stdout",
     "output_type": "stream",
     "text": [
      "   sex  age  race  juv_fel_count  juv_misd_count  juv_other_count  \\\n",
      "0    0   69     3              0               0                0   \n",
      "\n",
      "   priors_count  days_b_screening_arrest  jail_time  c_days_from_compas  \\\n",
      "0             0                     -1.0          0                 1.0   \n",
      "\n",
      "   c_charge_degree  custody_time  priors_count  \n",
      "0                0             7             0  \n"
     ]
    }
   ],
   "source": [
    "X = df[['sex', 'age', 'race', 'juv_fel_count', 'juv_misd_count', 'juv_other_count',\n",
    "        'priors_count', 'days_b_screening_arrest', 'jail_time', 'c_days_from_compas', 'c_charge_degree', 'custody_time', 'priors_count']]\n",
    "y = df['two_year_recid']  # Ground thruth whether they will recommit a crime or not.\n",
    "print(X.head(1))\n",
    "\n",
    "# Normalise X between [0, 1]/\n",
    "X_np = X.values #returns a numpy array\n",
    "min_max_scaler = preprocessing.MinMaxScaler()\n",
    "X_scaled = min_max_scaler.fit_transform(X_np)\n",
    "X = pd.DataFrame(X_scaled)\n"
   ]
  },
  {
   "cell_type": "markdown",
   "metadata": {},
   "source": [
    "### Classifiers\n",
    "Several classifiers will be proposed in the next section.\n",
    "Every time a simple evalution performance in terms of accuracy is mentioned."
   ]
  },
  {
   "cell_type": "code",
   "execution_count": 23,
   "metadata": {},
   "outputs": [],
   "source": [
    "def accuracy(y_test, y_model):\n",
    "    acc = accuracy_score(y_test, y_model)\n",
    "    print('Accuracy of the network on the test samples: ' + str(acc))\n",
    "    \n",
    "X_train, X_test, y_train, y_test = train_test_split(X, y, test_size=0.4, random_state=42) #20 procent test set"
   ]
  },
  {
   "cell_type": "markdown",
   "metadata": {},
   "source": [
    "#### Gaussian Naive Bayes"
   ]
  },
  {
   "cell_type": "code",
   "execution_count": 24,
   "metadata": {},
   "outputs": [
    {
     "name": "stdout",
     "output_type": "stream",
     "text": [
      "Accuracy of the network on the test samples: 0.6395301741595788\n"
     ]
    }
   ],
   "source": [
    "model = GaussianNB()\n",
    "model.fit(X_train, y_train)\n",
    "y_model = model.predict(X_test)\n",
    "\n",
    "accuracy(y_test, y_model)"
   ]
  },
  {
   "cell_type": "code",
   "execution_count": 25,
   "metadata": {
    "scrolled": false
   },
   "outputs": [],
   "source": [
    "def label_race (idx):\n",
    "    if idx==0.0 :\n",
    "        return 'African-American'\n",
    "    elif idx==0.2 :\n",
    "        return 'Caucasian'\n",
    "    elif idx==0.4 :\n",
    "        return 'Hispanic'\n",
    "    elif idx==0.8 :\n",
    "        return 'Asian'\n",
    "    elif idx==1:\n",
    "        return 'Native American'\n",
    "    else:\n",
    "        return 'Other'\n",
    "    \n",
    "def label_sex (idx):\n",
    "    if idx==0 :\n",
    "        return 'Male'\n",
    "    else :\n",
    "        return 'Female'\n",
    "\n",
    "df_Gaussian = X_test.copy()\n",
    "\n",
    "def re_text(df,y_model,y_test):\n",
    "    df['prediction']=y_model\n",
    "    df['two_year_recid']=y_test\n",
    "\n",
    "    df['sex'] = df.iloc[ : , 0 ].apply (lambda idx: label_sex(idx))\n",
    "    df['race'] = df.iloc[ : , 2 ].apply (lambda idx: label_race(idx))\n",
    "\n",
    "re_text(df_Gaussian,y_model,y_test)\n"
   ]
  },
  {
   "cell_type": "code",
   "execution_count": 26,
   "metadata": {},
   "outputs": [
    {
     "name": "stdout",
     "output_type": "stream",
     "text": [
      "Global accurecy 0.6395301741595788\n"
     ]
    }
   ],
   "source": [
    "tab = df_Gaussian[['prediction','race','sex','two_year_recid']]\n",
    "stat = tab.groupby(['race', 'sex'])  \n",
    "accurecy = tab[((df_Gaussian.prediction==1) & (df_Gaussian.two_year_recid==1)) | ((df_Gaussian.prediction==0) & (df_Gaussian.two_year_recid==0))].count()['prediction']/tab.count()['prediction']\n",
    "print(\"Global accuracy\", accurecy)"
   ]
  },
  {
   "cell_type": "code",
   "execution_count": 27,
   "metadata": {
    "scrolled": false
   },
   "outputs": [
    {
     "name": "stdout",
     "output_type": "stream",
     "text": [
      "('African-American', 'Female') \n",
      " 0.6858407079646017 \n",
      "\n",
      "\n",
      "('African-American', 'Male') \n",
      " 0.622478386167147 \n",
      "\n",
      "\n",
      "('Asian', 'Male') \n",
      " 0.7857142857142857 \n",
      "\n",
      "\n",
      "('Caucasian', 'Female') \n",
      " 0.6510416666666666 \n",
      "\n",
      "\n",
      "('Caucasian', 'Male') \n",
      " 0.6427480916030535 \n",
      "\n",
      "\n",
      "('Hispanic', 'Female') \n",
      " 0.7058823529411765 \n",
      "\n",
      "\n",
      "('Hispanic', 'Male') \n",
      " 0.6467065868263473 \n",
      "\n",
      "\n",
      "('Native American', 'Female') \n",
      " 0 \n",
      "\n",
      "\n",
      "('Native American', 'Male') \n",
      " 1.0 \n",
      "\n",
      "\n",
      "('Other', 'Female') \n",
      " 0.7142857142857143 \n",
      "\n",
      "\n",
      "('Other', 'Male') \n",
      " 0.5925925925925926 \n",
      "\n",
      "\n"
     ]
    },
    {
     "name": "stderr",
     "output_type": "stream",
     "text": [
      "/usr/local/lib/python3.7/site-packages/ipykernel_launcher.py:4: UserWarning: Boolean Series key will be reindexed to match DataFrame index.\n",
      "  after removing the cwd from sys.path.\n"
     ]
    }
   ],
   "source": [
    "acc_list_gaussian=[]\n",
    "for key, item in stat:\n",
    "    stat_group=stat.get_group(key)\n",
    "    TPredic=stat_group[((df_Gaussian.prediction==1) & (df_Gaussian.two_year_recid==1)) | ((df_Gaussian.prediction==0) & (df_Gaussian.two_year_recid==0))].count()['prediction']\n",
    "    Predic=stat_group.count()['prediction']\n",
    "    if TPredic==0 :\n",
    "        accurecy = 0\n",
    "    else:\n",
    "        accurecy=TPredic/Predic\n",
    "    print(key,'\\n',accurecy, '\\n\\n')\n",
    "    acc_list_gaussian.append(accurecy)"
   ]
  },
  {
   "cell_type": "markdown",
   "metadata": {},
   "source": [
    "We can see here the accuracy differences per group are still present. Comparing to the result from COMPAS, there's no major improvement, the differences between some groups has even been enlarged."
   ]
  },
  {
   "cell_type": "code",
   "execution_count": 28,
   "metadata": {},
   "outputs": [
    {
     "name": "stdout",
     "output_type": "stream",
     "text": [
      "('African-American', 'Female') \n",
      " 0.2727272727272727 \n",
      "\n",
      "\n",
      "('African-American', 'Male') \n",
      " 0.2729528535980149 \n",
      "\n",
      "\n",
      "('Asian', 'Male') \n",
      " 0 \n",
      "\n",
      "\n",
      "('Caucasian', 'Female') \n",
      " 0.2857142857142857 \n",
      "\n",
      "\n",
      "('Caucasian', 'Male') \n",
      " 0.3904761904761905 \n",
      "\n",
      "\n",
      "('Hispanic', 'Female') \n",
      " 0 \n",
      "\n",
      "\n",
      "('Hispanic', 'Male') \n",
      " 0.5 \n",
      "\n",
      "\n",
      "('Native American', 'Female') \n",
      " 0 \n",
      "\n",
      "\n",
      "('Native American', 'Male') \n",
      " 0 \n",
      "\n",
      "\n",
      "('Other', 'Female') \n",
      " 1.0 \n",
      "\n",
      "\n",
      "('Other', 'Male') \n",
      " 0.5454545454545454 \n",
      "\n",
      "\n"
     ]
    }
   ],
   "source": [
    "FP_list_gaussian=[]\n",
    "for key, item in stat:\n",
    "    stat_group=stat.get_group(key)\n",
    "    FPos=stat_group[((stat_group.prediction==1) & (stat_group.two_year_recid==0))].count()['prediction']\n",
    "    Pos=stat_group[(stat_group.prediction==1)].count()['prediction']\n",
    "    if FPos==0 :\n",
    "        accurecy = 0\n",
    "    else:\n",
    "        accurecy=FPos/Pos\n",
    "    print(key,'\\n',accurecy, '\\n\\n')\n",
    "    FP_list_gaussian.append(accurecy)"
   ]
  },
  {
   "cell_type": "code",
   "execution_count": 29,
   "metadata": {
    "scrolled": true
   },
   "outputs": [
    {
     "name": "stdout",
     "output_type": "stream",
     "text": [
      "('African-American', 'Female') \n",
      " 0.31862745098039214 \n",
      "\n",
      "\n",
      "('African-American', 'Male') \n",
      " 0.44357366771159873 \n",
      "\n",
      "\n",
      "('Asian', 'Male') \n",
      " 0.23076923076923078 \n",
      "\n",
      "\n",
      "('Caucasian', 'Female') \n",
      " 0.3539325842696629 \n",
      "\n",
      "\n",
      "('Caucasian', 'Male') \n",
      " 0.3509090909090909 \n",
      "\n",
      "\n",
      "('Hispanic', 'Female') \n",
      " 0.30303030303030304 \n",
      "\n",
      "\n",
      "('Hispanic', 'Male') \n",
      " 0.32867132867132864 \n",
      "\n",
      "\n",
      "('Native American', 'Female') \n",
      " 1.0 \n",
      "\n",
      "\n",
      "('Native American', 'Male') \n",
      " 0 \n",
      "\n",
      "\n",
      "('Other', 'Female') \n",
      " 0.23076923076923078 \n",
      "\n",
      "\n",
      "('Other', 'Male') \n",
      " 0.3917525773195876 \n",
      "\n",
      "\n"
     ]
    }
   ],
   "source": [
    "FN_list_gaussian=[]\n",
    "for key, item in stat:\n",
    "    stat_group=stat.get_group(key)\n",
    "    FNeg=stat_group[((stat_group.prediction==0) & (stat_group.two_year_recid==1))].count()['prediction']\n",
    "    Neg=stat_group[(stat_group.prediction==0)].count()['prediction']\n",
    "    if FNeg==0 :\n",
    "        accurecy = 0\n",
    "    else:\n",
    "        accurecy=FNeg/Neg\n",
    "    print(key,'\\n',accurecy, '\\n\\n')\n",
    "    FN_list_gaussian.append(accurecy)"
   ]
  },
  {
   "cell_type": "markdown",
   "metadata": {},
   "source": [
    "#### K-Nearest Neighbours\n",
    "By increasing the number of neighbours the accuracy increases. Yet at a certain point every entry might be classified as the most probable class in the entire dataset, because k is so large. Resulting in a negative effect on the accuracy. We dicovered that this occurs when k is 55."
   ]
  },
  {
   "cell_type": "code",
   "execution_count": 30,
   "metadata": {},
   "outputs": [
    {
     "name": "stdout",
     "output_type": "stream",
     "text": [
      "Accuracy of the network on the test samples: 0.6723369785338194\n"
     ]
    }
   ],
   "source": [
    "model = KNeighborsClassifier(n_neighbors=55)\n",
    "model.fit(X_train, y_train)\n",
    "y_model = model.predict(X_test)\n",
    "\n",
    "accuracy(y_test, y_model)"
   ]
  },
  {
   "cell_type": "code",
   "execution_count": 31,
   "metadata": {},
   "outputs": [],
   "source": [
    "df_KNN = X_test.copy()\n",
    "re_text(df_KNN,y_model,y_test)"
   ]
  },
  {
   "cell_type": "code",
   "execution_count": 32,
   "metadata": {
    "scrolled": true
   },
   "outputs": [
    {
     "name": "stdout",
     "output_type": "stream",
     "text": [
      "Global accurecy 0.6723369785338194\n"
     ]
    }
   ],
   "source": [
    "tab = df_KNN[['prediction','race','sex','two_year_recid']]\n",
    "stat = tab.groupby(['race', 'sex'])  \n",
    "accurecy = tab[((df_KNN.prediction==1) & (df_KNN.two_year_recid==1)) | ((df_KNN.prediction==0) & (df_KNN.two_year_recid==0))].count()['prediction']/tab.count()['prediction']\n",
    "print(\"Global accuracy\", accurecy)"
   ]
  },
  {
   "cell_type": "code",
   "execution_count": 33,
   "metadata": {
    "scrolled": false
   },
   "outputs": [
    {
     "name": "stdout",
     "output_type": "stream",
     "text": [
      "('African-American', 'Female') \n",
      " 0.6769911504424779 \n",
      "\n",
      "\n",
      "('African-American', 'Male') \n",
      " 0.681075888568684 \n",
      "\n",
      "\n",
      "('Asian', 'Male') \n",
      " 0.7142857142857143 \n",
      "\n",
      "\n",
      "('Caucasian', 'Female') \n",
      " 0.6510416666666666 \n",
      "\n",
      "\n",
      "('Caucasian', 'Male') \n",
      " 0.6625954198473283 \n",
      "\n",
      "\n",
      "('Hispanic', 'Female') \n",
      " 0.7058823529411765 \n",
      "\n",
      "\n",
      "('Hispanic', 'Male') \n",
      " 0.6946107784431138 \n",
      "\n",
      "\n",
      "('Native American', 'Female') \n",
      " 0 \n",
      "\n",
      "\n",
      "('Native American', 'Male') \n",
      " 1.0 \n",
      "\n",
      "\n",
      "('Other', 'Female') \n",
      " 0.7857142857142857 \n",
      "\n",
      "\n",
      "('Other', 'Male') \n",
      " 0.5925925925925926 \n",
      "\n",
      "\n"
     ]
    }
   ],
   "source": [
    "acc_list_knn=[]\n",
    "for key, item in stat:\n",
    "    stat_group=stat.get_group(key)\n",
    "    TPredic=stat_group[((stat_group.prediction==1) & (stat_group.two_year_recid==1)) | ((stat_group.prediction==0) & (stat_group.two_year_recid==0))].count()['prediction']\n",
    "    Predic=stat_group.count()['prediction']\n",
    "    if TPredic==0 :\n",
    "        accurecy = 0\n",
    "    else:\n",
    "        accurecy=TPredic/Predic\n",
    "    print(key,'\\n',accurecy, '\\n\\n')\n",
    "    acc_list_knn.append(accurecy)"
   ]
  },
  {
   "cell_type": "markdown",
   "metadata": {},
   "source": [
    "Here we can observe a much more even accuracy among groups. With the majority of the accuracy better than COMPAS. Next, we are going to examine the false positive rate and false negative rate group by group."
   ]
  },
  {
   "cell_type": "code",
   "execution_count": 34,
   "metadata": {},
   "outputs": [
    {
     "name": "stdout",
     "output_type": "stream",
     "text": [
      "('African-American', 'Female') \n",
      " 0.35714285714285715 \n",
      "\n",
      "\n",
      "('African-American', 'Male') \n",
      " 0.3006535947712418 \n",
      "\n",
      "\n",
      "('Asian', 'Male') \n",
      " 0 \n",
      "\n",
      "\n",
      "('Caucasian', 'Female') \n",
      " 0.25 \n",
      "\n",
      "\n",
      "('Caucasian', 'Male') \n",
      " 0.3732394366197183 \n",
      "\n",
      "\n",
      "('Hispanic', 'Female') \n",
      " 0 \n",
      "\n",
      "\n",
      "('Hispanic', 'Male') \n",
      " 0.42 \n",
      "\n",
      "\n",
      "('Native American', 'Female') \n",
      " 0 \n",
      "\n",
      "\n",
      "('Native American', 'Male') \n",
      " 0 \n",
      "\n",
      "\n",
      "('Other', 'Female') \n",
      " 0 \n",
      "\n",
      "\n",
      "('Other', 'Male') \n",
      " 0.5333333333333333 \n",
      "\n",
      "\n"
     ]
    }
   ],
   "source": [
    "FP_list_knn=[]\n",
    "for key, item in stat:\n",
    "    stat_group=stat.get_group(key)\n",
    "    FPos=stat_group[((stat_group.prediction==1) & (stat_group.two_year_recid==0))].count()['prediction']\n",
    "    Pos=stat_group[(stat_group.prediction==1)].count()['prediction']\n",
    "    if FPos==0 :\n",
    "        accurecy = 0\n",
    "    else:\n",
    "        accurecy=FPos/Pos\n",
    "    print(key,'\\n',accurecy, '\\n\\n')\n",
    "    FP_list_knn.append(accurecy)"
   ]
  },
  {
   "cell_type": "code",
   "execution_count": 35,
   "metadata": {
    "scrolled": true
   },
   "outputs": [
    {
     "name": "stdout",
     "output_type": "stream",
     "text": [
      "('African-American', 'Female') \n",
      " 0.3181818181818182 \n",
      "\n",
      "\n",
      "('African-American', 'Male') \n",
      " 0.34498834498834496 \n",
      "\n",
      "\n",
      "('Asian', 'Male') \n",
      " 0.2857142857142857 \n",
      "\n",
      "\n",
      "('Caucasian', 'Female') \n",
      " 0.35555555555555557 \n",
      "\n",
      "\n",
      "('Caucasian', 'Male') \n",
      " 0.32748538011695905 \n",
      "\n",
      "\n",
      "('Hispanic', 'Female') \n",
      " 0.30303030303030304 \n",
      "\n",
      "\n",
      "('Hispanic', 'Male') \n",
      " 0.2564102564102564 \n",
      "\n",
      "\n",
      "('Native American', 'Female') \n",
      " 1.0 \n",
      "\n",
      "\n",
      "('Native American', 'Male') \n",
      " 0 \n",
      "\n",
      "\n",
      "('Other', 'Female') \n",
      " 0.21428571428571427 \n",
      "\n",
      "\n",
      "('Other', 'Male') \n",
      " 0.3870967741935484 \n",
      "\n",
      "\n"
     ]
    }
   ],
   "source": [
    "FN_list_knn=[]\n",
    "for key, item in stat:\n",
    "    stat_group=stat.get_group(key)\n",
    "    FNeg=stat_group[((stat_group.prediction==0) & (stat_group.two_year_recid==1))].count()['prediction']\n",
    "    Neg=stat_group[(stat_group.prediction==0)].count()['prediction']\n",
    "    if FNeg==0 :\n",
    "        accurecy = 0\n",
    "    else:\n",
    "        accurecy=FNeg/Neg\n",
    "    print(key,'\\n',accurecy, '\\n\\n')\n",
    "    FN_list_knn.append(accurecy)"
   ]
  },
  {
   "cell_type": "markdown",
   "metadata": {},
   "source": [
    "#### Multi Layer Perceptron\n",
    "A multi layer perceptron (MLP) appeared to have a better accuracy when there are more nodes in the hidden layers and when using relu as teh activation function."
   ]
  },
  {
   "cell_type": "code",
   "execution_count": 36,
   "metadata": {},
   "outputs": [
    {
     "name": "stdout",
     "output_type": "stream",
     "text": [
      "Accuracy of the network on the test samples: 0.6662616443904414\n"
     ]
    }
   ],
   "source": [
    "classifier = MLPClassifier(hidden_layer_sizes=(150,100,50), activation='relu', solver='adam', max_iter=2000)\n",
    "classifier.fit(X_train, y_train)\n",
    "y_model = classifier.predict(X_test)\n",
    "\n",
    "accuracy(y_test, y_model)"
   ]
  },
  {
   "cell_type": "code",
   "execution_count": 37,
   "metadata": {},
   "outputs": [],
   "source": [
    "df_MLP = X_test.copy()\n",
    "re_text(df_MLP,y_model,y_test)"
   ]
  },
  {
   "cell_type": "code",
   "execution_count": 38,
   "metadata": {
    "scrolled": true
   },
   "outputs": [
    {
     "name": "stdout",
     "output_type": "stream",
     "text": [
      "Global accurecy 0.6662616443904414\n"
     ]
    }
   ],
   "source": [
    "tab = df_MLP[['prediction','race','sex','two_year_recid']]\n",
    "stat = tab.groupby(['race', 'sex'])  \n",
    "accurecy = tab[((df_MLP.prediction==1) & (df_MLP.two_year_recid==1)) | ((df_MLP.prediction==0) & (df_MLP.two_year_recid==0))].count()['prediction']/tab.count()['prediction']\n",
    "print(\"Global accuracy\", accurecy)"
   ]
  },
  {
   "cell_type": "code",
   "execution_count": 39,
   "metadata": {
    "scrolled": false
   },
   "outputs": [
    {
     "name": "stdout",
     "output_type": "stream",
     "text": [
      "('African-American', 'Female') \n",
      " 0.7035398230088495 \n",
      "\n",
      "\n",
      "('African-American', 'Male') \n",
      " 0.6570605187319885 \n",
      "\n",
      "\n",
      "('Asian', 'Male') \n",
      " 0.7857142857142857 \n",
      "\n",
      "\n",
      "('Caucasian', 'Female') \n",
      " 0.6458333333333334 \n",
      "\n",
      "\n",
      "('Caucasian', 'Male') \n",
      " 0.6793893129770993 \n",
      "\n",
      "\n",
      "('Hispanic', 'Female') \n",
      " 0.6764705882352942 \n",
      "\n",
      "\n",
      "('Hispanic', 'Male') \n",
      " 0.6167664670658682 \n",
      "\n",
      "\n",
      "('Native American', 'Female') \n",
      " 1.0 \n",
      "\n",
      "\n",
      "('Native American', 'Male') \n",
      " 1.0 \n",
      "\n",
      "\n",
      "('Other', 'Female') \n",
      " 0.7857142857142857 \n",
      "\n",
      "\n",
      "('Other', 'Male') \n",
      " 0.6481481481481481 \n",
      "\n",
      "\n"
     ]
    }
   ],
   "source": [
    "acc_list_mlp=[]\n",
    "for key, item in stat:\n",
    "    stat_group=stat.get_group(key)\n",
    "    TPredic=stat_group[((stat_group.prediction==1) & (stat_group.two_year_recid==1)) | ((stat_group.prediction==0) & (stat_group.two_year_recid==0))].count()['prediction']\n",
    "    Predic=stat_group.count()['prediction']\n",
    "    if TPredic==0 :\n",
    "        accurecy = 0\n",
    "    else:\n",
    "        accurecy=TPredic/Predic\n",
    "    print(key,'\\n',accurecy, '\\n\\n')\n",
    "    acc_list_mlp.append(accurecy)"
   ]
  },
  {
   "cell_type": "markdown",
   "metadata": {},
   "source": [
    "We can observe a high performance here using the Multi Layer Perceptron, but the accuracy per group graph clearly shows an inequality among groups"
   ]
  },
  {
   "cell_type": "code",
   "execution_count": 40,
   "metadata": {},
   "outputs": [
    {
     "name": "stdout",
     "output_type": "stream",
     "text": [
      "('African-American', 'Female') \n",
      " 0.28125 \n",
      "\n",
      "\n",
      "('African-American', 'Male') \n",
      " 0.3027027027027027 \n",
      "\n",
      "\n",
      "('Asian', 'Male') \n",
      " 0.3333333333333333 \n",
      "\n",
      "\n",
      "('Caucasian', 'Female') \n",
      " 0.38095238095238093 \n",
      "\n",
      "\n",
      "('Caucasian', 'Male') \n",
      " 0.38071065989847713 \n",
      "\n",
      "\n",
      "('Hispanic', 'Female') \n",
      " 0.5 \n",
      "\n",
      "\n",
      "('Hispanic', 'Male') \n",
      " 0.5384615384615384 \n",
      "\n",
      "\n",
      "('Native American', 'Female') \n",
      " 0 \n",
      "\n",
      "\n",
      "('Native American', 'Male') \n",
      " 0 \n",
      "\n",
      "\n",
      "('Other', 'Female') \n",
      " 0.5 \n",
      "\n",
      "\n",
      "('Other', 'Male') \n",
      " 0.44680851063829785 \n",
      "\n",
      "\n"
     ]
    }
   ],
   "source": [
    "FP_list_mlp=[]\n",
    "for key, item in stat:\n",
    "    stat_group=stat.get_group(key)\n",
    "    FPos=stat_group[((stat_group.prediction==1) & (stat_group.two_year_recid==0))].count()['prediction']\n",
    "    Pos=stat_group[(stat_group.prediction==1)].count()['prediction']\n",
    "    if FPos==0 :\n",
    "        accurecy = 0\n",
    "    else:\n",
    "        accurecy=FPos/Pos\n",
    "    print(key,'\\n',accurecy, '\\n\\n')\n",
    "    FP_list_mlp.append(accurecy)"
   ]
  },
  {
   "cell_type": "code",
   "execution_count": 41,
   "metadata": {
    "scrolled": true
   },
   "outputs": [
    {
     "name": "stdout",
     "output_type": "stream",
     "text": [
      "('African-American', 'Female') \n",
      " 0.29896907216494845 \n",
      "\n",
      "\n",
      "('African-American', 'Male') \n",
      " 0.3888888888888889 \n",
      "\n",
      "\n",
      "('Asian', 'Male') \n",
      " 0.18181818181818182 \n",
      "\n",
      "\n",
      "('Caucasian', 'Female') \n",
      " 0.3508771929824561 \n",
      "\n",
      "\n",
      "('Caucasian', 'Male') \n",
      " 0.29475982532751094 \n",
      "\n",
      "\n",
      "('Hispanic', 'Female') \n",
      " 0.3125 \n",
      "\n",
      "\n",
      "('Hispanic', 'Male') \n",
      " 0.28431372549019607 \n",
      "\n",
      "\n",
      "('Native American', 'Female') \n",
      " 0 \n",
      "\n",
      "\n",
      "('Native American', 'Male') \n",
      " 0 \n",
      "\n",
      "\n",
      "('Other', 'Female') \n",
      " 0.16666666666666666 \n",
      "\n",
      "\n",
      "('Other', 'Male') \n",
      " 0.2786885245901639 \n",
      "\n",
      "\n"
     ]
    }
   ],
   "source": [
    "FN_list_mlp=[]\n",
    "for key, item in stat:\n",
    "    stat_group=stat.get_group(key)\n",
    "    FNeg=stat_group[((stat_group.prediction==0) & (stat_group.two_year_recid==1))].count()['prediction']\n",
    "    Neg=stat_group[(stat_group.prediction==0)].count()['prediction']\n",
    "    if FNeg==0 :\n",
    "        accurecy = 0\n",
    "    else:\n",
    "        accurecy=FNeg/Neg\n",
    "    print(key,'\\n',accurecy, '\\n\\n')\n",
    "    FN_list_mlp.append(accurecy)"
   ]
  },
  {
   "cell_type": "markdown",
   "metadata": {},
   "source": [
    "#### Linear Regression\n",
    "Linear regression required to round the output in order to still have a binary classifier. This model definedly performed very good in terms of accuracy."
   ]
  },
  {
   "cell_type": "code",
   "execution_count": 42,
   "metadata": {},
   "outputs": [
    {
     "name": "stdout",
     "output_type": "stream",
     "text": [
      "Accuracy of the network on the test samples: 0.6844876468205752\n"
     ]
    }
   ],
   "source": [
    "model = LinearRegression(fit_intercept=True)\n",
    "model.fit(X_train, y_train)\n",
    "y_model = (model.predict(X_test)).round()\n",
    "\n",
    "accuracy(y_test, y_model)"
   ]
  },
  {
   "cell_type": "code",
   "execution_count": 43,
   "metadata": {},
   "outputs": [],
   "source": [
    "df_LR = X_test.copy()\n",
    "re_text(df_LR,y_model,y_test)"
   ]
  },
  {
   "cell_type": "code",
   "execution_count": 44,
   "metadata": {
    "scrolled": true
   },
   "outputs": [
    {
     "name": "stdout",
     "output_type": "stream",
     "text": [
      "Global accurecy 0.6861077359254759\n"
     ]
    }
   ],
   "source": [
    "tab = df_LR[['prediction','race','sex','two_year_recid']]\n",
    "stat = tab.groupby(['race', 'sex'])  \n",
    "accurecy = tab[((df_LR.prediction>0.5) & (df_LR.two_year_recid==1)) | ((df_LR.prediction<=0.5) & (df_LR.two_year_recid==0))].count()['prediction']/tab.count()['prediction']\n",
    "print(\"Global accuracy\", accurecy)"
   ]
  },
  {
   "cell_type": "code",
   "execution_count": 45,
   "metadata": {
    "scrolled": false
   },
   "outputs": [
    {
     "name": "stdout",
     "output_type": "stream",
     "text": [
      "('African-American', 'Female') \n",
      " 0.7123893805309734 \n",
      "\n",
      "\n",
      "('African-American', 'Male') \n",
      " 0.6820365033621518 \n",
      "\n",
      "\n",
      "('Asian', 'Male') \n",
      " 0.7142857142857143 \n",
      "\n",
      "\n",
      "('Caucasian', 'Female') \n",
      " 0.6822916666666666 \n",
      "\n",
      "\n",
      "('Caucasian', 'Male') \n",
      " 0.6748091603053435 \n",
      "\n",
      "\n",
      "('Hispanic', 'Female') \n",
      " 0.7058823529411765 \n",
      "\n",
      "\n",
      "('Hispanic', 'Male') \n",
      " 0.7544910179640718 \n",
      "\n",
      "\n",
      "('Native American', 'Female') \n",
      " 0 \n",
      "\n",
      "\n",
      "('Native American', 'Male') \n",
      " 1.0 \n",
      "\n",
      "\n",
      "('Other', 'Female') \n",
      " 0.7857142857142857 \n",
      "\n",
      "\n",
      "('Other', 'Male') \n",
      " 0.6018518518518519 \n",
      "\n",
      "\n"
     ]
    }
   ],
   "source": [
    "acc_list_lr=[]\n",
    "for key, item in stat:\n",
    "    stat_group=stat.get_group(key)\n",
    "    TPredic=stat_group[((stat_group.prediction>0.5) & (stat_group.two_year_recid==1)) | ((stat_group.prediction<=0.5) & (stat_group.two_year_recid==0))].count()['prediction']\n",
    "    Predic=stat_group.count()['prediction']\n",
    "    if TPredic==0 :\n",
    "        accurecy = 0\n",
    "    else:\n",
    "        accurecy=TPredic/Predic\n",
    "    print(key,'\\n',accurecy, '\\n\\n')\n",
    "    acc_list_lr.append(accurecy)"
   ]
  },
  {
   "cell_type": "code",
   "execution_count": 46,
   "metadata": {},
   "outputs": [
    {
     "name": "stdout",
     "output_type": "stream",
     "text": [
      "('African-American', 'Female') \n",
      " 0.23333333333333334 \n",
      "\n",
      "\n",
      "('African-American', 'Male') \n",
      " 0.2995090016366612 \n",
      "\n",
      "\n",
      "('Asian', 'Male') \n",
      " 0 \n",
      "\n",
      "\n",
      "('Caucasian', 'Female') \n",
      " 0.16666666666666666 \n",
      "\n",
      "\n",
      "('Caucasian', 'Male') \n",
      " 0.358974358974359 \n",
      "\n",
      "\n",
      "('Hispanic', 'Female') \n",
      " 0 \n",
      "\n",
      "\n",
      "('Hispanic', 'Male') \n",
      " 0.2631578947368421 \n",
      "\n",
      "\n",
      "('Native American', 'Female') \n",
      " 0 \n",
      "\n",
      "\n",
      "('Native American', 'Male') \n",
      " 0 \n",
      "\n",
      "\n",
      "('Other', 'Female') \n",
      " 0 \n",
      "\n",
      "\n",
      "('Other', 'Male') \n",
      " 0.5 \n",
      "\n",
      "\n"
     ]
    }
   ],
   "source": [
    "FP_list_lr=[]\n",
    "for key, item in stat:\n",
    "    stat_group=stat.get_group(key)\n",
    "    FPos=stat_group[((stat_group.prediction>0.5) & (stat_group.two_year_recid==0))].count()['prediction']\n",
    "    Pos=stat_group[(stat_group.prediction>0.5)].count()['prediction']\n",
    "    if FPos==0 :\n",
    "        accurecy = 0\n",
    "    else:\n",
    "        accurecy=FPos/Pos\n",
    "    print(key,'\\n',accurecy, '\\n\\n')\n",
    "    FP_list_lr.append(accurecy)"
   ]
  },
  {
   "cell_type": "code",
   "execution_count": 47,
   "metadata": {
    "scrolled": true
   },
   "outputs": [
    {
     "name": "stdout",
     "output_type": "stream",
     "text": [
      "('African-American', 'Female') \n",
      " 0.29591836734693877 \n",
      "\n",
      "\n",
      "('African-American', 'Male') \n",
      " 0.34418604651162793 \n",
      "\n",
      "\n",
      "('Asian', 'Male') \n",
      " 0.2857142857142857 \n",
      "\n",
      "\n",
      "('Caucasian', 'Female') \n",
      " 0.3333333333333333 \n",
      "\n",
      "\n",
      "('Caucasian', 'Male') \n",
      " 0.31462925851703405 \n",
      "\n",
      "\n",
      "('Hispanic', 'Female') \n",
      " 0.30303030303030304 \n",
      "\n",
      "\n",
      "('Hispanic', 'Male') \n",
      " 0.24031007751937986 \n",
      "\n",
      "\n",
      "('Native American', 'Female') \n",
      " 1.0 \n",
      "\n",
      "\n",
      "('Native American', 'Male') \n",
      " 0 \n",
      "\n",
      "\n",
      "('Other', 'Female') \n",
      " 0.21428571428571427 \n",
      "\n",
      "\n",
      "('Other', 'Male') \n",
      " 0.375 \n",
      "\n",
      "\n"
     ]
    }
   ],
   "source": [
    "FN_list_lr=[]\n",
    "for key, item in stat:\n",
    "    stat_group=stat.get_group(key)\n",
    "    FNeg=stat_group[((stat_group.prediction<=0.5) & (stat_group.two_year_recid==1))].count()['prediction']\n",
    "    Neg=stat_group[(stat_group.prediction<=0.5)].count()['prediction']\n",
    "    if FNeg==0 :\n",
    "        accurecy = 0\n",
    "    else:\n",
    "        accurecy=FNeg/Neg\n",
    "    print(key,'\\n',accurecy, '\\n\\n')\n",
    "    FN_list_lr.append(accurecy)"
   ]
  },
  {
   "cell_type": "markdown",
   "metadata": {},
   "source": [
    "#### Neural Network with dense layers.\n",
    "\n",
    "An other classifier is a neural network existing out of three dense layers using the relu activation function.\n",
    "At the end of the network a sigoid function is applied.\n",
    "\n",
    "To train this network, we add a dimension to the *X_train* and *X_test* and turn our training and test sets to tensors. Further we create the dataloaders *trainloader* and *testloader* to iterate easily over the dataset during training."
   ]
  },
  {
   "cell_type": "code",
   "execution_count": 48,
   "metadata": {},
   "outputs": [
    {
     "name": "stdout",
     "output_type": "stream",
     "text": [
      "torch.Size([3703, 1, 13]) torch.Size([3703])\n",
      "torch.Size([2469, 1, 13]) torch.Size([2469])\n"
     ]
    }
   ],
   "source": [
    "X_train, X_test, y_train, y_test = train_test_split(X, y, test_size=0.4, random_state=42) #20 precent test set\n",
    "\n",
    "df_NN = X_test\n",
    "df_CNN = X_test\n",
    "\n",
    "X_train = torch.from_numpy(X_train.to_numpy()).float()\n",
    "X_train.unsqueeze_(1)\n",
    "y_train = torch.squeeze(torch.from_numpy(y_train.to_numpy()).float())\n",
    "\n",
    "dataset_train = dt.TensorDataset(X_train, y_train)\n",
    "trainloader = dt.DataLoader(dataset_train, batch_size=5, shuffle=True, num_workers=2) # Let the amount of training samples be dividable by the batch size \n",
    "\n",
    "\n",
    "X_test = torch.from_numpy(X_test.to_numpy()).float()\n",
    "X_test.unsqueeze_(1)\n",
    "y_test = torch.squeeze(torch.from_numpy(y_test.to_numpy()).float())\n",
    "\n",
    "dataset_test = dt.TensorDataset(X_test, y_test)\n",
    "testloader = dt.DataLoader(dataset_test, batch_size=5, shuffle=True, num_workers=2)\n",
    "\n",
    "\n",
    "print(X_train.shape, y_train.shape)\n",
    "print(X_test.shape, y_test.shape)"
   ]
  },
  {
   "cell_type": "code",
   "execution_count": 49,
   "metadata": {},
   "outputs": [
    {
     "name": "stdout",
     "output_type": "stream",
     "text": [
      "Net_dense(\n",
      "  (fc1): Linear(in_features=13, out_features=8, bias=True)\n",
      "  (fc2): Linear(in_features=8, out_features=5, bias=True)\n",
      "  (fc3): Linear(in_features=5, out_features=1, bias=True)\n",
      ")\n"
     ]
    }
   ],
   "source": [
    "class Net_dense(nn.Module):\n",
    "\n",
    "    def __init__(self, n_features):\n",
    "        super(Net_dense, self).__init__()\n",
    "        self.fc1 = nn.Linear(n_features, 8)\n",
    "        self.fc2 = nn.Linear(8, 5)\n",
    "        self.fc3 = nn.Linear(5, 1)\n",
    "\n",
    "    def forward(self, x):\n",
    "        x = F.relu(self.fc1(x))\n",
    "        x = F.relu(self.fc2(x))\n",
    "        return torch.sigmoid(self.fc3(x))\n",
    "net_dense = Net_dense(X_train.shape[2])\n",
    "print(net_dense)\n"
   ]
  },
  {
   "cell_type": "markdown",
   "metadata": {},
   "source": [
    "Furthermore the learning rate is 0.001 and the loss fuction is the Binary Cross Entropy.\n",
    "The following functions allow to train the given network and to predict the labels of the test set. Then we train the network and compute the accuracy."
   ]
  },
  {
   "cell_type": "code",
   "execution_count": 50,
   "metadata": {},
   "outputs": [],
   "source": [
    "criterion_dense = nn.BCELoss()\n",
    "optimizer_dense = optim.SGD(net_dense.parameters(), lr=0.001, momentum=0.9)"
   ]
  },
  {
   "cell_type": "code",
   "execution_count": 51,
   "metadata": {},
   "outputs": [],
   "source": [
    "def train(trainloader, net, criterion, optimizer):\n",
    "    for epoch in range(12):  # loop over the dataset multiple times\n",
    "\n",
    "        running_loss = 0.0\n",
    "        for i, data in enumerate(trainloader, 0):\n",
    "            # get the inputs; data is a list of [inputs, labels]\n",
    "            inputs, labels = data\n",
    "            \n",
    "            # zero the parameter gradients\n",
    "            optimizer.zero_grad()\n",
    "\n",
    "            # forward + backward + optimize\n",
    "            outputs = net.forward(inputs)\n",
    "            loss = criterion(outputs, labels)\n",
    "            loss.backward()\n",
    "            optimizer.step()\n",
    "            \n",
    "            # print statistics\n",
    "            running_loss += loss.item()\n",
    "            if i % 99 == 0:    # print every 100 mini-batches of 4 trainling examples\n",
    "                print('[%d, %5d] loss: %.3f' % (epoch + 1, i + 1, running_loss / 2000))\n",
    "                running_loss = 0.0    "
   ]
  },
  {
   "cell_type": "code",
   "execution_count": 52,
   "metadata": {},
   "outputs": [],
   "source": [
    "def predict (net, testloader):\n",
    "    y_pred_list = []\n",
    "    with torch.no_grad():\n",
    "        for data in testloader:\n",
    "            samples, labels = data\n",
    "            y_test_pred = net(samples)\n",
    "            y_pred_tag = torch.round(y_test_pred)\n",
    "            y_pred_list.append(y_pred_tag.numpy())\n",
    "    y_pred_list = [a.squeeze().tolist() for a in y_pred_list]\n",
    "    y_model = [item for sublist in y_pred_list for item in sublist]\n",
    "    return y_model    "
   ]
  },
  {
   "cell_type": "code",
   "execution_count": 53,
   "metadata": {},
   "outputs": [
    {
     "name": "stdout",
     "output_type": "stream",
     "text": [
      "[1,     1] loss: 0.000\n"
     ]
    },
    {
     "name": "stderr",
     "output_type": "stream",
     "text": [
      "/usr/local/lib/python3.7/site-packages/torch/nn/modules/loss.py:498: UserWarning: Using a target size (torch.Size([5])) that is different to the input size (torch.Size([5, 1, 1])) is deprecated. Please ensure they have the same size.\n",
      "  return F.binary_cross_entropy(input, target, weight=self.weight, reduction=self.reduction)\n"
     ]
    },
    {
     "name": "stdout",
     "output_type": "stream",
     "text": [
      "[1,   100] loss: 0.034\n",
      "[1,   199] loss: 0.034\n",
      "[1,   298] loss: 0.034\n",
      "[1,   397] loss: 0.034\n",
      "[1,   496] loss: 0.034\n",
      "[1,   595] loss: 0.034\n",
      "[1,   694] loss: 0.034\n"
     ]
    },
    {
     "name": "stderr",
     "output_type": "stream",
     "text": [
      "/usr/local/lib/python3.7/site-packages/torch/nn/modules/loss.py:498: UserWarning: Using a target size (torch.Size([3])) that is different to the input size (torch.Size([3, 1, 1])) is deprecated. Please ensure they have the same size.\n",
      "  return F.binary_cross_entropy(input, target, weight=self.weight, reduction=self.reduction)\n"
     ]
    },
    {
     "name": "stdout",
     "output_type": "stream",
     "text": [
      "[2,     1] loss: 0.000\n",
      "[2,   100] loss: 0.034\n",
      "[2,   199] loss: 0.034\n",
      "[2,   298] loss: 0.034\n",
      "[2,   397] loss: 0.034\n",
      "[2,   496] loss: 0.034\n",
      "[2,   595] loss: 0.034\n",
      "[2,   694] loss: 0.034\n",
      "[3,     1] loss: 0.000\n",
      "[3,   100] loss: 0.034\n",
      "[3,   199] loss: 0.034\n",
      "[3,   298] loss: 0.034\n",
      "[3,   397] loss: 0.033\n",
      "[3,   496] loss: 0.033\n",
      "[3,   595] loss: 0.034\n",
      "[3,   694] loss: 0.034\n",
      "[4,     1] loss: 0.000\n",
      "[4,   100] loss: 0.033\n",
      "[4,   199] loss: 0.034\n",
      "[4,   298] loss: 0.033\n",
      "[4,   397] loss: 0.033\n",
      "[4,   496] loss: 0.033\n",
      "[4,   595] loss: 0.033\n",
      "[4,   694] loss: 0.033\n",
      "[5,     1] loss: 0.000\n",
      "[5,   100] loss: 0.033\n",
      "[5,   199] loss: 0.033\n",
      "[5,   298] loss: 0.033\n",
      "[5,   397] loss: 0.033\n",
      "[5,   496] loss: 0.033\n",
      "[5,   595] loss: 0.033\n",
      "[5,   694] loss: 0.033\n",
      "[6,     1] loss: 0.000\n",
      "[6,   100] loss: 0.032\n",
      "[6,   199] loss: 0.033\n",
      "[6,   298] loss: 0.033\n",
      "[6,   397] loss: 0.033\n",
      "[6,   496] loss: 0.033\n",
      "[6,   595] loss: 0.032\n",
      "[6,   694] loss: 0.033\n",
      "[7,     1] loss: 0.000\n",
      "[7,   100] loss: 0.032\n",
      "[7,   199] loss: 0.033\n",
      "[7,   298] loss: 0.032\n",
      "[7,   397] loss: 0.032\n",
      "[7,   496] loss: 0.032\n",
      "[7,   595] loss: 0.032\n",
      "[7,   694] loss: 0.033\n",
      "[8,     1] loss: 0.000\n",
      "[8,   100] loss: 0.032\n",
      "[8,   199] loss: 0.032\n",
      "[8,   298] loss: 0.031\n",
      "[8,   397] loss: 0.032\n",
      "[8,   496] loss: 0.031\n",
      "[8,   595] loss: 0.032\n",
      "[8,   694] loss: 0.032\n",
      "[9,     1] loss: 0.000\n",
      "[9,   100] loss: 0.032\n",
      "[9,   199] loss: 0.032\n",
      "[9,   298] loss: 0.031\n",
      "[9,   397] loss: 0.031\n",
      "[9,   496] loss: 0.031\n",
      "[9,   595] loss: 0.032\n",
      "[9,   694] loss: 0.031\n",
      "[10,     1] loss: 0.000\n",
      "[10,   100] loss: 0.031\n",
      "[10,   199] loss: 0.032\n",
      "[10,   298] loss: 0.032\n",
      "[10,   397] loss: 0.031\n",
      "[10,   496] loss: 0.031\n",
      "[10,   595] loss: 0.031\n",
      "[10,   694] loss: 0.031\n",
      "[11,     1] loss: 0.000\n",
      "[11,   100] loss: 0.031\n",
      "[11,   199] loss: 0.031\n",
      "[11,   298] loss: 0.031\n",
      "[11,   397] loss: 0.030\n",
      "[11,   496] loss: 0.030\n",
      "[11,   595] loss: 0.031\n",
      "[11,   694] loss: 0.031\n",
      "[12,     1] loss: 0.000\n",
      "[12,   100] loss: 0.031\n",
      "[12,   199] loss: 0.031\n",
      "[12,   298] loss: 0.031\n",
      "[12,   397] loss: 0.031\n",
      "[12,   496] loss: 0.030\n",
      "[12,   595] loss: 0.030\n",
      "[12,   694] loss: 0.031\n"
     ]
    }
   ],
   "source": [
    "train(trainloader, net_dense, criterion_dense, optimizer_dense)"
   ]
  },
  {
   "cell_type": "code",
   "execution_count": 54,
   "metadata": {},
   "outputs": [
    {
     "name": "stdout",
     "output_type": "stream",
     "text": [
      "Accuracy of the network on the test samples: 0.5220737140542729\n"
     ]
    }
   ],
   "source": [
    "y_model = predict (net_dense, testloader)\n",
    "accuracy(y_test, y_model)"
   ]
  },
  {
   "cell_type": "code",
   "execution_count": 55,
   "metadata": {},
   "outputs": [
    {
     "name": "stderr",
     "output_type": "stream",
     "text": [
      "/usr/local/lib/python3.7/site-packages/ipykernel_launcher.py:24: SettingWithCopyWarning: \n",
      "A value is trying to be set on a copy of a slice from a DataFrame.\n",
      "Try using .loc[row_indexer,col_indexer] = value instead\n",
      "\n",
      "See the caveats in the documentation: https://pandas.pydata.org/pandas-docs/stable/user_guide/indexing.html#returning-a-view-versus-a-copy\n",
      "/usr/local/lib/python3.7/site-packages/ipykernel_launcher.py:25: SettingWithCopyWarning: \n",
      "A value is trying to be set on a copy of a slice from a DataFrame.\n",
      "Try using .loc[row_indexer,col_indexer] = value instead\n",
      "\n",
      "See the caveats in the documentation: https://pandas.pydata.org/pandas-docs/stable/user_guide/indexing.html#returning-a-view-versus-a-copy\n",
      "/usr/local/lib/python3.7/site-packages/ipykernel_launcher.py:27: SettingWithCopyWarning: \n",
      "A value is trying to be set on a copy of a slice from a DataFrame.\n",
      "Try using .loc[row_indexer,col_indexer] = value instead\n",
      "\n",
      "See the caveats in the documentation: https://pandas.pydata.org/pandas-docs/stable/user_guide/indexing.html#returning-a-view-versus-a-copy\n",
      "/usr/local/lib/python3.7/site-packages/ipykernel_launcher.py:28: SettingWithCopyWarning: \n",
      "A value is trying to be set on a copy of a slice from a DataFrame.\n",
      "Try using .loc[row_indexer,col_indexer] = value instead\n",
      "\n",
      "See the caveats in the documentation: https://pandas.pydata.org/pandas-docs/stable/user_guide/indexing.html#returning-a-view-versus-a-copy\n"
     ]
    }
   ],
   "source": [
    "re_text(df_NN,y_model,y_test)"
   ]
  },
  {
   "cell_type": "code",
   "execution_count": 56,
   "metadata": {
    "scrolled": true
   },
   "outputs": [
    {
     "name": "stdout",
     "output_type": "stream",
     "text": [
      "Global accurecy 0.5220737140542729\n"
     ]
    }
   ],
   "source": [
    "tab = df_NN[['prediction','race','sex','two_year_recid']]\n",
    "stat = tab.groupby(['race', 'sex'])  \n",
    "accurecy = tab[((df_NN.prediction==1) & (df_NN.two_year_recid==1)) | ((df_NN.prediction==0) & (df_NN.two_year_recid==0))].count()['prediction']/tab.count()['prediction']\n",
    "print(\"Global accuracy\", accurecy)"
   ]
  },
  {
   "cell_type": "code",
   "execution_count": 57,
   "metadata": {
    "scrolled": false
   },
   "outputs": [
    {
     "name": "stdout",
     "output_type": "stream",
     "text": [
      "('African-American', 'Female') \n",
      " 0.584070796460177 \n",
      "\n",
      "\n",
      "('African-American', 'Male') \n",
      " 0.4908741594620557 \n",
      "\n",
      "\n",
      "('Asian', 'Male') \n",
      " 0.6428571428571429 \n",
      "\n",
      "\n",
      "('Caucasian', 'Female') \n",
      " 0.53125 \n",
      "\n",
      "\n",
      "('Caucasian', 'Male') \n",
      " 0.5221374045801527 \n",
      "\n",
      "\n",
      "('Hispanic', 'Female') \n",
      " 0.5882352941176471 \n",
      "\n",
      "\n",
      "('Hispanic', 'Male') \n",
      " 0.5329341317365269 \n",
      "\n",
      "\n",
      "('Native American', 'Female') \n",
      " 1.0 \n",
      "\n",
      "\n",
      "('Native American', 'Male') \n",
      " 0.6666666666666666 \n",
      "\n",
      "\n",
      "('Other', 'Female') \n",
      " 0.6785714285714286 \n",
      "\n",
      "\n",
      "('Other', 'Male') \n",
      " 0.5740740740740741 \n",
      "\n",
      "\n"
     ]
    }
   ],
   "source": [
    "acc_list_nn=[]\n",
    "for key, item in stat:\n",
    "    stat_group=stat.get_group(key)\n",
    "    TPredic=stat_group[((stat_group.prediction>0.5) & (stat_group.two_year_recid==1)) | ((stat_group.prediction<=0.5) & (stat_group.two_year_recid==0))].count()['prediction']\n",
    "    Predic=stat_group.count()['prediction']\n",
    "    if TPredic==0 :\n",
    "        accurecy = 0\n",
    "    else:\n",
    "        accurecy=TPredic/Predic\n",
    "    print(key,'\\n',accurecy, '\\n\\n')\n",
    "    acc_list_nn.append(accurecy)"
   ]
  },
  {
   "cell_type": "code",
   "execution_count": 58,
   "metadata": {},
   "outputs": [
    {
     "name": "stdout",
     "output_type": "stream",
     "text": [
      "47\n",
      "81\n",
      "('African-American', 'Female') \n",
      " 0.5802469135802469 \n",
      "\n",
      "\n",
      "165\n",
      "376\n",
      "('African-American', 'Male') \n",
      " 0.43882978723404253 \n",
      "\n",
      "\n",
      "2\n",
      "3\n",
      "('Asian', 'Male') \n",
      " 0.6666666666666666 \n",
      "\n",
      "\n",
      "39\n",
      "61\n",
      "('Caucasian', 'Female') \n",
      " 0.639344262295082 \n",
      "\n",
      "\n",
      "142\n",
      "228\n",
      "('Caucasian', 'Male') \n",
      " 0.6228070175438597 \n",
      "\n",
      "\n",
      "9\n",
      "15\n",
      "('Hispanic', 'Female') \n",
      " 0.6 \n",
      "\n",
      "\n",
      "40\n",
      "61\n",
      "('Hispanic', 'Male') \n",
      " 0.6557377049180327 \n",
      "\n",
      "\n",
      "0\n",
      "1\n",
      "('Native American', 'Female') \n",
      " 0 \n",
      "\n",
      "\n",
      "1\n",
      "1\n",
      "('Native American', 'Male') \n",
      " 1.0 \n",
      "\n",
      "\n",
      "4\n",
      "5\n",
      "('Other', 'Female') \n",
      " 0.8 \n",
      "\n",
      "\n",
      "22\n",
      "41\n",
      "('Other', 'Male') \n",
      " 0.5365853658536586 \n",
      "\n",
      "\n"
     ]
    }
   ],
   "source": [
    "FP_list_nn=[]\n",
    "for key, item in stat:\n",
    "    stat_group=stat.get_group(key)\n",
    "    FPos=stat_group[((stat_group.prediction>0.5) & (stat_group.two_year_recid==0))].count()['prediction']\n",
    "    print(FPos)\n",
    "    Pos=stat_group[(stat_group.prediction>0.5)].count()['prediction']\n",
    "    print(Pos)\n",
    "    if FPos==0 :\n",
    "        accurecy = 0\n",
    "    else:\n",
    "        accurecy=FPos/Pos\n",
    "    print(key,'\\n',accurecy, '\\n\\n')\n",
    "    FP_list_nn.append(accurecy)"
   ]
  },
  {
   "cell_type": "code",
   "execution_count": 59,
   "metadata": {
    "scrolled": true
   },
   "outputs": [
    {
     "name": "stdout",
     "output_type": "stream",
     "text": [
      "('African-American', 'Female') \n",
      " 0.32413793103448274 \n",
      "\n",
      "\n",
      "('African-American', 'Male') \n",
      " 0.5488721804511278 \n",
      "\n",
      "\n",
      "('Asian', 'Male') \n",
      " 0.2727272727272727 \n",
      "\n",
      "\n",
      "('Caucasian', 'Female') \n",
      " 0.3893129770992366 \n",
      "\n",
      "\n",
      "('Caucasian', 'Male') \n",
      " 0.40046838407494145 \n",
      "\n",
      "\n",
      "('Hispanic', 'Female') \n",
      " 0.2631578947368421 \n",
      "\n",
      "\n",
      "('Hispanic', 'Male') \n",
      " 0.3584905660377358 \n",
      "\n",
      "\n",
      "('Native American', 'Female') \n",
      " 0 \n",
      "\n",
      "\n",
      "('Native American', 'Male') \n",
      " 0 \n",
      "\n",
      "\n",
      "('Other', 'Female') \n",
      " 0.21739130434782608 \n",
      "\n",
      "\n",
      "('Other', 'Male') \n",
      " 0.3582089552238806 \n",
      "\n",
      "\n"
     ]
    }
   ],
   "source": [
    "FN_list_nn=[]\n",
    "for key, item in stat:\n",
    "    stat_group=stat.get_group(key)\n",
    "    FNeg=stat_group[((stat_group.prediction<=0.5) & (stat_group.two_year_recid==1))].count()['prediction']\n",
    "    Neg=stat_group[(stat_group.prediction<=0.5)].count()['prediction']\n",
    "    if FNeg==0 :\n",
    "        accurecy = 0\n",
    "    else:\n",
    "        accurecy=FNeg/Neg\n",
    "    print(key,'\\n',accurecy, '\\n\\n')\n",
    "    FN_list_nn.append(accurecy)"
   ]
  },
  {
   "cell_type": "markdown",
   "metadata": {},
   "source": [
    "#### CNN\n",
    "\n",
    "Further we try a Convolutional Neural Network. The CNN is not the best solution to the problem, since there are only a few features and each convolution layer reduces the amount of features incredibly. Because of this problem the kernel_size cannot be further increased, resulting in a poor accuracy."
   ]
  },
  {
   "cell_type": "code",
   "execution_count": 60,
   "metadata": {},
   "outputs": [
    {
     "name": "stdout",
     "output_type": "stream",
     "text": [
      "Net_CNN(\n",
      "  (conv1): Conv1d(1, 16, kernel_size=(2,), stride=(1,))\n",
      "  (conv2): Conv1d(16, 64, kernel_size=(2,), stride=(1,))\n",
      "  (fc1): Linear(in_features=128, out_features=64, bias=True)\n",
      "  (fc2): Linear(in_features=64, out_features=32, bias=True)\n",
      "  (fc3): Linear(in_features=32, out_features=1, bias=True)\n",
      ")\n"
     ]
    }
   ],
   "source": [
    "class Net_CNN(nn.Module):\n",
    "\n",
    "    def __init__(self, n_features):\n",
    "        super(Net_CNN, self).__init__()\n",
    "        self.conv1 = nn.Conv1d(1, 16, kernel_size=2,stride=1, padding=0)\n",
    "        self.conv2 = nn.Conv1d(16, 64, kernel_size=2,stride=1, padding=0)\n",
    "        self.fc1 = nn.Linear(128, 64)       # Dense / Fully connnected layer.\n",
    "        self.fc2 = nn.Linear(64, 32)\n",
    "        self.fc3 = nn.Linear(32, 1)\n",
    "\n",
    "    def num_flat_features(self, x):\n",
    "        size = x.size()[1:]  # all dimensions except the batch dimension\n",
    "        num_features = 1\n",
    "        for s in size:\n",
    "            num_features *= s\n",
    "        return num_features\n",
    "        \n",
    "    def forward(self, x):\n",
    "        x = F.max_pool1d(F.relu(self.conv1(x)), kernel_size=2)\n",
    "        x = F.max_pool1d(F.relu(self.conv2(x)), kernel_size=2)\n",
    "        x = x.view(-1, self.num_flat_features(x))               # Flatten\n",
    "        x = F.relu(self.fc1(x))\n",
    "        x = F.relu(self.fc2(x))\n",
    "        x = torch.sigmoid(self.fc3(x))\n",
    "        return x\n",
    "    \n",
    "net_CNN = Net_CNN(X_train.shape[1])\n",
    "print(net_CNN)"
   ]
  },
  {
   "cell_type": "code",
   "execution_count": 61,
   "metadata": {},
   "outputs": [],
   "source": [
    "criterion_cnn = nn.BCELoss()\n",
    "optimizer_cnn = optim.SGD(net_CNN.parameters(), lr=0.001, momentum=0.9)"
   ]
  },
  {
   "cell_type": "code",
   "execution_count": 62,
   "metadata": {},
   "outputs": [
    {
     "name": "stdout",
     "output_type": "stream",
     "text": [
      "[1,     1] loss: 0.000\n"
     ]
    },
    {
     "name": "stderr",
     "output_type": "stream",
     "text": [
      "/usr/local/lib/python3.7/site-packages/torch/nn/modules/loss.py:498: UserWarning: Using a target size (torch.Size([5])) that is different to the input size (torch.Size([5, 1])) is deprecated. Please ensure they have the same size.\n",
      "  return F.binary_cross_entropy(input, target, weight=self.weight, reduction=self.reduction)\n"
     ]
    },
    {
     "name": "stdout",
     "output_type": "stream",
     "text": [
      "[1,   100] loss: 0.034\n",
      "[1,   199] loss: 0.034\n",
      "[1,   298] loss: 0.034\n",
      "[1,   397] loss: 0.034\n",
      "[1,   496] loss: 0.034\n",
      "[1,   595] loss: 0.034\n",
      "[1,   694] loss: 0.034\n"
     ]
    },
    {
     "name": "stderr",
     "output_type": "stream",
     "text": [
      "/usr/local/lib/python3.7/site-packages/torch/nn/modules/loss.py:498: UserWarning: Using a target size (torch.Size([3])) that is different to the input size (torch.Size([3, 1])) is deprecated. Please ensure they have the same size.\n",
      "  return F.binary_cross_entropy(input, target, weight=self.weight, reduction=self.reduction)\n"
     ]
    },
    {
     "name": "stdout",
     "output_type": "stream",
     "text": [
      "[2,     1] loss: 0.000\n",
      "[2,   100] loss: 0.034\n",
      "[2,   199] loss: 0.034\n",
      "[2,   298] loss: 0.034\n",
      "[2,   397] loss: 0.034\n",
      "[2,   496] loss: 0.034\n",
      "[2,   595] loss: 0.034\n",
      "[2,   694] loss: 0.034\n",
      "[3,     1] loss: 0.000\n",
      "[3,   100] loss: 0.034\n",
      "[3,   199] loss: 0.034\n",
      "[3,   298] loss: 0.034\n",
      "[3,   397] loss: 0.034\n",
      "[3,   496] loss: 0.034\n",
      "[3,   595] loss: 0.034\n",
      "[3,   694] loss: 0.034\n",
      "[4,     1] loss: 0.000\n",
      "[4,   100] loss: 0.034\n",
      "[4,   199] loss: 0.034\n",
      "[4,   298] loss: 0.034\n",
      "[4,   397] loss: 0.034\n",
      "[4,   496] loss: 0.034\n",
      "[4,   595] loss: 0.034\n",
      "[4,   694] loss: 0.034\n",
      "[5,     1] loss: 0.000\n",
      "[5,   100] loss: 0.034\n",
      "[5,   199] loss: 0.034\n",
      "[5,   298] loss: 0.034\n",
      "[5,   397] loss: 0.034\n",
      "[5,   496] loss: 0.034\n",
      "[5,   595] loss: 0.034\n",
      "[5,   694] loss: 0.034\n",
      "[6,     1] loss: 0.000\n",
      "[6,   100] loss: 0.034\n",
      "[6,   199] loss: 0.034\n",
      "[6,   298] loss: 0.034\n",
      "[6,   397] loss: 0.034\n",
      "[6,   496] loss: 0.034\n",
      "[6,   595] loss: 0.034\n",
      "[6,   694] loss: 0.034\n",
      "[7,     1] loss: 0.000\n",
      "[7,   100] loss: 0.034\n",
      "[7,   199] loss: 0.034\n",
      "[7,   298] loss: 0.034\n",
      "[7,   397] loss: 0.034\n",
      "[7,   496] loss: 0.034\n",
      "[7,   595] loss: 0.034\n",
      "[7,   694] loss: 0.034\n",
      "[8,     1] loss: 0.000\n",
      "[8,   100] loss: 0.034\n",
      "[8,   199] loss: 0.034\n",
      "[8,   298] loss: 0.034\n",
      "[8,   397] loss: 0.034\n",
      "[8,   496] loss: 0.034\n",
      "[8,   595] loss: 0.034\n",
      "[8,   694] loss: 0.034\n",
      "[9,     1] loss: 0.000\n",
      "[9,   100] loss: 0.034\n",
      "[9,   199] loss: 0.034\n",
      "[9,   298] loss: 0.034\n",
      "[9,   397] loss: 0.034\n",
      "[9,   496] loss: 0.034\n",
      "[9,   595] loss: 0.034\n",
      "[9,   694] loss: 0.034\n",
      "[10,     1] loss: 0.000\n",
      "[10,   100] loss: 0.034\n",
      "[10,   199] loss: 0.034\n",
      "[10,   298] loss: 0.034\n",
      "[10,   397] loss: 0.034\n",
      "[10,   496] loss: 0.034\n",
      "[10,   595] loss: 0.034\n",
      "[10,   694] loss: 0.034\n",
      "[11,     1] loss: 0.000\n",
      "[11,   100] loss: 0.033\n",
      "[11,   199] loss: 0.034\n",
      "[11,   298] loss: 0.034\n",
      "[11,   397] loss: 0.034\n",
      "[11,   496] loss: 0.034\n",
      "[11,   595] loss: 0.034\n",
      "[11,   694] loss: 0.034\n",
      "[12,     1] loss: 0.000\n",
      "[12,   100] loss: 0.034\n",
      "[12,   199] loss: 0.034\n",
      "[12,   298] loss: 0.034\n",
      "[12,   397] loss: 0.033\n",
      "[12,   496] loss: 0.034\n",
      "[12,   595] loss: 0.034\n",
      "[12,   694] loss: 0.034\n"
     ]
    }
   ],
   "source": [
    "train(trainloader, net_CNN, criterion_cnn, optimizer_cnn)"
   ]
  },
  {
   "cell_type": "code",
   "execution_count": 63,
   "metadata": {},
   "outputs": [
    {
     "name": "stdout",
     "output_type": "stream",
     "text": [
      "Accuracy of the network on the test samples: 0.5228837586067233\n"
     ]
    }
   ],
   "source": [
    "y_model = predict (net_CNN, testloader)\n",
    "accuracy(y_test, y_model)"
   ]
  },
  {
   "cell_type": "code",
   "execution_count": 64,
   "metadata": {},
   "outputs": [
    {
     "name": "stderr",
     "output_type": "stream",
     "text": [
      "/usr/local/lib/python3.7/site-packages/ipykernel_launcher.py:24: SettingWithCopyWarning: \n",
      "A value is trying to be set on a copy of a slice from a DataFrame.\n",
      "Try using .loc[row_indexer,col_indexer] = value instead\n",
      "\n",
      "See the caveats in the documentation: https://pandas.pydata.org/pandas-docs/stable/user_guide/indexing.html#returning-a-view-versus-a-copy\n",
      "/usr/local/lib/python3.7/site-packages/ipykernel_launcher.py:25: SettingWithCopyWarning: \n",
      "A value is trying to be set on a copy of a slice from a DataFrame.\n",
      "Try using .loc[row_indexer,col_indexer] = value instead\n",
      "\n",
      "See the caveats in the documentation: https://pandas.pydata.org/pandas-docs/stable/user_guide/indexing.html#returning-a-view-versus-a-copy\n",
      "/usr/local/lib/python3.7/site-packages/ipykernel_launcher.py:27: SettingWithCopyWarning: \n",
      "A value is trying to be set on a copy of a slice from a DataFrame.\n",
      "Try using .loc[row_indexer,col_indexer] = value instead\n",
      "\n",
      "See the caveats in the documentation: https://pandas.pydata.org/pandas-docs/stable/user_guide/indexing.html#returning-a-view-versus-a-copy\n",
      "/usr/local/lib/python3.7/site-packages/ipykernel_launcher.py:28: SettingWithCopyWarning: \n",
      "A value is trying to be set on a copy of a slice from a DataFrame.\n",
      "Try using .loc[row_indexer,col_indexer] = value instead\n",
      "\n",
      "See the caveats in the documentation: https://pandas.pydata.org/pandas-docs/stable/user_guide/indexing.html#returning-a-view-versus-a-copy\n"
     ]
    }
   ],
   "source": [
    "re_text(df_CNN,y_model,y_test)"
   ]
  },
  {
   "cell_type": "code",
   "execution_count": 65,
   "metadata": {
    "scrolled": true
   },
   "outputs": [
    {
     "name": "stdout",
     "output_type": "stream",
     "text": [
      "Global accurecy 0.5228837586067233\n"
     ]
    }
   ],
   "source": [
    "tab = df_CNN[['prediction','race','sex','two_year_recid']]\n",
    "stat = tab.groupby(['race', 'sex'])  \n",
    "accurecy = tab[((df_CNN.prediction>0.5) & (df_CNN.two_year_recid==1)) | ((df_CNN.prediction<=0.5) & (df_CNN.two_year_recid==0))].count()['prediction']/tab.count()['prediction']\n",
    "print(\"Global accuracy\", accurecy)"
   ]
  },
  {
   "cell_type": "code",
   "execution_count": 66,
   "metadata": {
    "scrolled": false
   },
   "outputs": [
    {
     "name": "stdout",
     "output_type": "stream",
     "text": [
      "('African-American', 'Female') \n",
      " 0.5575221238938053 \n",
      "\n",
      "\n",
      "('African-American', 'Male') \n",
      " 0.4553314121037464 \n",
      "\n",
      "\n",
      "('Asian', 'Male') \n",
      " 0.7142857142857143 \n",
      "\n",
      "\n",
      "('Caucasian', 'Female') \n",
      " 0.5572916666666666 \n",
      "\n",
      "\n",
      "('Caucasian', 'Male') \n",
      " 0.5648854961832062 \n",
      "\n",
      "\n",
      "('Hispanic', 'Female') \n",
      " 0.6764705882352942 \n",
      "\n",
      "\n",
      "('Hispanic', 'Male') \n",
      " 0.5868263473053892 \n",
      "\n",
      "\n",
      "('Native American', 'Female') \n",
      " 0 \n",
      "\n",
      "\n",
      "('Native American', 'Male') \n",
      " 0.6666666666666666 \n",
      "\n",
      "\n",
      "('Other', 'Female') \n",
      " 0.6428571428571429 \n",
      "\n",
      "\n",
      "('Other', 'Male') \n",
      " 0.5833333333333334 \n",
      "\n",
      "\n"
     ]
    }
   ],
   "source": [
    "acc_list_cnn=[]\n",
    "for key, item in stat:\n",
    "    stat_group=stat.get_group(key)\n",
    "    TPredic=stat_group[((stat_group.prediction>0.5) & (stat_group.two_year_recid==1)) | ((stat_group.prediction<=0.5) & (stat_group.two_year_recid==0))].count()['prediction']\n",
    "    Predic=stat_group.count()['prediction']\n",
    "    if TPredic==0 :\n",
    "        accurecy = 0\n",
    "    else:\n",
    "        accurecy=TPredic/Predic\n",
    "    print(key,'\\n',accurecy, '\\n\\n')\n",
    "    acc_list_cnn.append(accurecy)"
   ]
  },
  {
   "cell_type": "code",
   "execution_count": 67,
   "metadata": {},
   "outputs": [
    {
     "name": "stdout",
     "output_type": "stream",
     "text": [
      "('African-American', 'Female') \n",
      " 0.7714285714285715 \n",
      "\n",
      "\n",
      "('African-American', 'Male') \n",
      " 0.47368421052631576 \n",
      "\n",
      "\n",
      "('Asian', 'Male') \n",
      " 0.5 \n",
      "\n",
      "\n",
      "('Caucasian', 'Female') \n",
      " 0.6764705882352942 \n",
      "\n",
      "\n",
      "('Caucasian', 'Male') \n",
      " 0.6296296296296297 \n",
      "\n",
      "\n",
      "('Hispanic', 'Female') \n",
      " 0.5 \n",
      "\n",
      "\n",
      "('Hispanic', 'Male') \n",
      " 0.7272727272727273 \n",
      "\n",
      "\n",
      "('Native American', 'Female') \n",
      " 0 \n",
      "\n",
      "\n",
      "('Native American', 'Male') \n",
      " 1.0 \n",
      "\n",
      "\n",
      "('Other', 'Female') \n",
      " 1.0 \n",
      "\n",
      "\n",
      "('Other', 'Male') \n",
      " 0.5555555555555556 \n",
      "\n",
      "\n"
     ]
    }
   ],
   "source": [
    "FP_list_cnn=[]\n",
    "for key, item in stat:\n",
    "    stat_group=stat.get_group(key)\n",
    "    FPos=stat_group[((stat_group.prediction==1) & (stat_group.two_year_recid==0))].count()['prediction']\n",
    "    Pos=stat_group[(stat_group.prediction==1)].count()['prediction']\n",
    "    if FPos==0 :\n",
    "        accurecy = 0\n",
    "    else:\n",
    "        accurecy=FPos/Pos\n",
    "    print(key,'\\n',accurecy, '\\n\\n')\n",
    "    FP_list_cnn.append(accurecy)"
   ]
  },
  {
   "cell_type": "code",
   "execution_count": 68,
   "metadata": {
    "scrolled": true
   },
   "outputs": [
    {
     "name": "stdout",
     "output_type": "stream",
     "text": [
      "('African-American', 'Female') \n",
      " 0.38219895287958117 \n",
      "\n",
      "\n",
      "('African-American', 'Male') \n",
      " 0.5586206896551724 \n",
      "\n",
      "\n",
      "('Asian', 'Male') \n",
      " 0.2 \n",
      "\n",
      "\n",
      "('Caucasian', 'Female') \n",
      " 0.3924050632911392 \n",
      "\n",
      "\n",
      "('Caucasian', 'Male') \n",
      " 0.396709323583181 \n",
      "\n",
      "\n",
      "('Hispanic', 'Female') \n",
      " 0.3125 \n",
      "\n",
      "\n",
      "('Hispanic', 'Male') \n",
      " 0.36551724137931035 \n",
      "\n",
      "\n",
      "('Native American', 'Female') \n",
      " 1.0 \n",
      "\n",
      "\n",
      "('Native American', 'Male') \n",
      " 0 \n",
      "\n",
      "\n",
      "('Other', 'Female') \n",
      " 0.25 \n",
      "\n",
      "\n",
      "('Other', 'Male') \n",
      " 0.3888888888888889 \n",
      "\n",
      "\n"
     ]
    }
   ],
   "source": [
    "FN_list_cnn=[]\n",
    "for key, item in stat:\n",
    "    stat_group=stat.get_group(key)\n",
    "    FNeg=stat_group[((stat_group.prediction<=0.5) & (stat_group.two_year_recid==1))].count()['prediction']\n",
    "    Neg=stat_group[(stat_group.prediction<=0.5)].count()['prediction']\n",
    "    if FNeg==0 :\n",
    "        accurecy = 0\n",
    "    else:\n",
    "        accurecy=FNeg/Neg\n",
    "    print(key,'\\n',accurecy, '\\n\\n')\n",
    "    FN_list_cnn.append(accurecy)"
   ]
  },
  {
   "cell_type": "markdown",
   "metadata": {},
   "source": [
    "### Compas Accuracy\n",
    "The given dataset provides a *decile_score* and a *score_text*. Both are multiclass labels on the criminal defendants assigned by Compas or Propublica. In order to compare the accuracy of the Compas classifier with  our classifiers, the compass classifier has to be a binary. Further, the Compas files make it clear that each defendant with a _Medium_ or *High score_text* is classified as being recid and the others with a *Low score\\_text* as not recid. Hence we will append a new column *comp_bin_clas* to the datafram, that represents the classification of the compas binary classifier."
   ]
  },
  {
   "cell_type": "code",
   "execution_count": 69,
   "metadata": {},
   "outputs": [],
   "source": [
    "df = df.assign(comp_bin_clas=pd.Series(np.random.randn(length)).values)\n",
    "\n",
    "def deduct_bin_score_comp(row):\n",
    "    if (row['score_text'] == \"Medium\" or row['score_text'] == \"High\"):\n",
    "        return 1\n",
    "    if row['score_text'] == \"Low\":\n",
    "        return 0\n",
    "    return -1\n",
    "\n",
    "df['comp_bin_clas'] = df.apply (lambda row: deduct_bin_score_comp(row), axis=1)"
   ]
  },
  {
   "cell_type": "markdown",
   "metadata": {},
   "source": [
    "Given the ground truth of *two_year_recid* and the binary classification *comp_bin_clas* we compute the accuracy of the binary classifier."
   ]
  },
  {
   "cell_type": "code",
   "execution_count": 70,
   "metadata": {},
   "outputs": [
    {
     "name": "stdout",
     "output_type": "stream",
     "text": [
      "Accuracy of the Compas binary classifier: 0.6607258587167855\n"
     ]
    }
   ],
   "source": [
    "def comp_acc_Compass(df):\n",
    "    df_temp = df.apply(lambda row: True if row['two_year_recid'] == 1 and row['comp_bin_clas'] == 1 else False , axis=1)\n",
    "    tp = len(df_temp[df_temp == True].index)\n",
    "    \n",
    "    df_temp = df.apply(lambda row: True if row['two_year_recid'] == 1 and row['comp_bin_clas'] == 0 else False , axis=1)\n",
    "    fn = len(df_temp[df_temp == True].index)\n",
    "    \n",
    "    df_temp = df.apply(lambda row: True if row['two_year_recid'] == 0 and row['comp_bin_clas'] == 1 else False , axis=1)\n",
    "    fp = len(df_temp[df_temp == True].index)\n",
    "    \n",
    "    df_temp = df.apply(lambda row: True if row['two_year_recid'] == 0 and row['comp_bin_clas'] == 0 else False , axis=1)\n",
    "    tn = len(df_temp[df_temp == True].index)\n",
    "    \n",
    "    return (tp + tn) / (tp + tn + fp + fn)\n",
    "\n",
    "compass_accuarcy = comp_acc_Compass(df)\n",
    "print('Accuracy of the Compas binary classifier: ' + str(compass_accuarcy))"
   ]
  },
  {
   "cell_type": "markdown",
   "metadata": {},
   "source": [
    "### Comparison\n",
    "\n",
    "The table below summarises the accuracies for each classifier.\n",
    "\n",
    "| **Classifier**       | **Accuracy**     |\n",
    "| :------------- | :----------: |\n",
    "|  Gaussian Naive Bayes | 0.6005788712011577  |\n",
    "| K-Nearest Neighbours   | 0.6657018813314037 |\n",
    "| Multi Layer Percerptron |  0.6490593342981187  |\n",
    "|  Linear Regression | 0.670767004341534  |\n",
    "|  Dense Neural Network | 0.5332850940665702 |\n",
    "|  Convolutional Neural Network | 0.5332850940665702 |\n",
    "|  Compas Binary Classifier  |  0.6597654553351672 |\n",
    "\n",
    "Linear Regression show the best performance and hence is our preference and recommendation followed by the K-Nearest Neighbours.\n",
    "Both outperform the binary Compass classifier.\n",
    "Finally a remarkable result occurs with both Neural networks. They appear to have hit the same ceiling in performance. Finally we dicovered that the CNN is remarkably slower then the Neural network during training. This is due to the convolytional layes that require a lot of computation power."
   ]
  },
  {
   "cell_type": "markdown",
   "metadata": {},
   "source": [
    "We are going to plot the accuracy, FP and FN per group blow. We removed the *Asain female* group from the results we got COMPAS because this group only have 2 samples and never got picked in the test set for our classifier so we have no prediction on this group"
   ]
  },
  {
   "cell_type": "code",
   "execution_count": 72,
   "metadata": {},
   "outputs": [
    {
     "data": {
      "text/plain": [
       "Text(0.5, 1.0, 'Accuracy per group')"
      ]
     },
     "execution_count": 72,
     "metadata": {},
     "output_type": "execute_result"
    },
    {
     "data": {
      "image/png": "[encoded data removed]",
      "text/plain": [
       "<Figure size 432x288 with 1 Axes>"
      ]
     },
     "metadata": {
      "needs_background": "light"
     },
     "output_type": "display_data"
    }
   ],
   "source": [
    "\n",
    "#accurecy per group all\n",
    "\n",
    "del acc_list_compas[2]\n",
    "del keys[2]\n",
    "\n",
    "plt.plot(acc_list_compas,label=\"COMPAS\")\n",
    "plt.plot(acc_list_gaussian,label=\"Gaussian\")\n",
    "plt.plot(acc_list_knn,label=\"KNN\")\n",
    "plt.plot(acc_list_mlp,label=\"MLP\")\n",
    "plt.plot(acc_list_lr,label=\"LR\")\n",
    "plt.plot(acc_list_nn,label=\"NN\")\n",
    "plt.plot(acc_list_cnn,label=\"CNN\")\n",
    "plt.legend(loc='best')\n",
    "plt.xticks(range(0, 12),keys,rotation=90)\n",
    "plt.title(\"Accuracy per group\")"
   ]
  },
  {
   "cell_type": "markdown",
   "metadata": {},
   "source": [
    "We can see here that all models here performed almost as good as the COMPAS classifier in terms of accuracy. Inequality among groups are still more or less present in all groups"
   ]
  },
  {
   "cell_type": "code",
   "execution_count": 73,
   "metadata": {},
   "outputs": [
    {
     "data": {
      "text/plain": [
       "Text(0.5, 1.0, 'False positive per group')"
      ]
     },
     "execution_count": 73,
     "metadata": {},
     "output_type": "execute_result"
    },
    {
     "data": {
      "image/png": "[encoded data removed]",
      "text/plain": [
       "<Figure size 432x288 with 1 Axes>"
      ]
     },
     "metadata": {
      "needs_background": "light"
     },
     "output_type": "display_data"
    }
   ],
   "source": [
    "\n",
    "#false positive per group all\n",
    "\n",
    "del FP_list_compas[2]\n",
    "\n",
    "plt.plot(FP_list_compas,label=\"COMPAS\")\n",
    "plt.plot(FP_list_gaussian,label=\"Gaussian\")\n",
    "plt.plot(FP_list_knn,label=\"KNN\")\n",
    "plt.plot(FP_list_mlp,label=\"MLP\")\n",
    "plt.plot(FP_list_lr,label=\"LR\")\n",
    "plt.plot(FP_list_nn,label=\"NN\")\n",
    "plt.plot(FP_list_cnn,label=\"CNN\")\n",
    "plt.legend(loc='best')\n",
    "plt.xticks(range(0, 12),keys,rotation=90)\n",
    "plt.title(\"False positive per group\")"
   ]
  },
  {
   "cell_type": "markdown",
   "metadata": {},
   "source": [
    "The false positive rate shows a more diverge among classifiers. Still, Inequality among groups are still more or less present in all groups."
   ]
  },
  {
   "cell_type": "code",
   "execution_count": 74,
   "metadata": {},
   "outputs": [
    {
     "data": {
      "text/plain": [
       "Text(0.5, 1.0, 'False negative per group')"
      ]
     },
     "execution_count": 74,
     "metadata": {},
     "output_type": "execute_result"
    },
    {
     "data": {
      "image/png": "[encoded data removed]",
      "text/plain": [
       "<Figure size 432x288 with 1 Axes>"
      ]
     },
     "metadata": {
      "needs_background": "light"
     },
     "output_type": "display_data"
    }
   ],
   "source": [
    "\n",
    "#false negative per group all\n",
    "\n",
    "del FN_list_compas[2]\n",
    "\n",
    "plt.plot(FN_list_compas,label=\"COMPAS\")\n",
    "plt.plot(FN_list_gaussian,label=\"Gaussian\")\n",
    "plt.plot(FN_list_knn,label=\"KNN\")\n",
    "plt.plot(FN_list_mlp,label=\"MLP\")\n",
    "plt.plot(FN_list_lr,label=\"LR\")\n",
    "plt.plot(FN_list_nn,label=\"NN\")\n",
    "plt.plot(FN_list_cnn,label=\"CNN\")\n",
    "plt.legend(loc='best')\n",
    "plt.xticks(range(0, 12),keys,rotation=90)\n",
    "plt.title(\"False negative per group\")"
   ]
  },
  {
   "cell_type": "markdown",
   "metadata": {},
   "source": [
    "Here we notice that almost no classifier outperforms the CAMPAS one in terms of false negative rate. Could be a deliberate decision on COMPAS' part."
   ]
  },
  {
   "cell_type": "code",
   "execution_count": 83,
   "metadata": {},
   "outputs": [
    {
     "name": "stdout",
     "output_type": "stream",
     "text": [
      "Empty DataFrame\n",
      "Columns: [sex, race, two_year_recid, prediction]\n",
      "Index: []\n",
      "[[ 1.          0.01299185 -0.09135031 -0.17957399]\n",
      " [ 0.01299185  1.         -0.12884211 -0.20987768]\n",
      " [-0.09135031 -0.12884211  1.          0.26772363]\n",
      " [-0.17957399 -0.20987768  0.26772363  1.        ]]\n"
     ]
    }
   ],
   "source": [
    "df_corr_gaussian =  pd.DataFrame(columns = ['sex','race','two_year_recid','prediction'])\n",
    "sex = df_Gaussian.iloc[:,0]\n",
    "race = df_Gaussian.iloc[:,2]\n",
    "two_year_recid = df_Gaussian['two_year_recid']\n",
    "prediction = df_Gaussian['prediction']\n",
    "print(df_corr_gaussian)\n",
    "correlation_matrix = np.corrcoef([sex,race,two_year_recid,prediction])\n",
    "print(correlation_matrix)"
   ]
  },
  {
   "cell_type": "markdown",
   "metadata": {},
   "source": [
    "We took the 3 conventional criteria of fairness: independence, separation and sufficiency with the following definition:\n",
    "        -Independence: If a feature is statistically independent to the prediction result.\n",
    "        -Separation: If a feature is statistically independent to the prediction result with a given target value (example false positive rate) of the prediction. This means the false positive rate and the false negative rate should be equal in all groups.\n",
    "        -Sufficiency: If a given target value is statistically independent to a feature with a given prediction. This means with the same truth value, A and B with different sensitive feature value should have the equal probability of the same prediction result.\n",
    "\n",
    "We will use these 3 criteria to examine the COMPAS data first"
   ]
  },
  {
   "cell_type": "code",
   "execution_count": 98,
   "metadata": {},
   "outputs": [
    {
     "name": "stdout",
     "output_type": "stream",
     "text": [
      "int64\n",
      "[[ 1.          0.00638145 -0.10091102 -0.06057473]\n",
      " [ 0.00638145  1.         -0.12383131 -0.27744237]\n",
      " [-0.10091102 -0.12383131  1.          0.36548711]\n",
      " [-0.06057473 -0.27744237  0.36548711  1.        ]]\n"
     ]
    }
   ],
   "source": [
    "\n",
    "#Independence criteria\n",
    "\n",
    "df=df_backup\n",
    "sex = df['sex']\n",
    "race = df['race']\n",
    "two_year_recid = df['two_year_recid']\n",
    "prediction = df['decile_score']\n",
    "\n",
    "print(sex.dtype)\n",
    "\n",
    "correlation_matrix = np.corrcoef([sex,race,two_year_recid,prediction])\n",
    "print(correlation_matrix)"
   ]
  },
  {
   "cell_type": "markdown",
   "metadata": {},
   "source": [
    "From the matrix above we can observe that decile_score is correlated with both race and gender(less strong). This means the classifier does not fit the independence criteria. We can also observe that the two_year_recid is also correlated with race and gender, this indicates that the dataset is biased from the beginning, this bias needs to be corrected before training."
   ]
  },
  {
   "cell_type": "markdown",
   "metadata": {},
   "source": [
    "Separation criteria\n",
    "We can observe the inequality among groups in terms of false positive rate and false negative rate in the previous plot in the first section. COMPAS does not fit this criteria either"
   ]
  },
  {
   "cell_type": "code",
   "execution_count": null,
   "metadata": {},
   "outputs": [],
   "source": [
    "\n",
    "#Sufficiency criteria\n",
    "\n"
   ]
  },
  {
   "cell_type": "code",
   "execution_count": null,
   "metadata": {},
   "outputs": [],
   "source": []
  }
 ],
 "metadata": {
  "kernelspec": {
   "display_name": "Python 3",
   "language": "python",
   "name": "python3"
  },
  "language_info": {
   "codemirror_mode": {
    "name": "ipython",
    "version": 3
   },
   "file_extension": ".py",
   "mimetype": "text/x-python",
   "name": "python",
   "nbconvert_exporter": "python",
   "pygments_lexer": "ipython3",
   "version": "3.7.6"
  }
 },
 "nbformat": 4,
 "nbformat_minor": 4
}
