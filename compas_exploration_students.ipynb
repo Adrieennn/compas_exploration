{
 "cells": [
  {
   "cell_type": "markdown",
   "metadata": {},
   "source": [
    "## Download the data\n",
    "\n",
    "We first need to load the data from the ProPublica repo:\n",
    "https://github.com/propublica/compas-analysis\n"
   ]
  },
  {
   "cell_type": "markdown",
   "metadata": {},
   "source": [
    "# Course Project\n",
    "\n",
    "## Dataset\n",
    "\n",
    "You will examine the ProPublica COMPAS dataset, which consists of all criminal defendants who were subject to COMPAS screening in Broward County, Florida, during 2013 and 2014. For each defendant, various information fields (‘features’) were also gathered by ProPublica. Broadly, these fields are related to the defendant’s demographic information (e.g., gender and race), criminal history (e.g., the number of prior offenses) and administrative information about the case (e.g., the case number, arrest date, risk of recidivism predicted by the COMPAS tool). Finally, the dataset also contains information about whether the defendant did actually recidivate or not.\n",
    "\n",
    "The COMPAS score uses answers to 137 questions to assign a risk score to defendants -- essentially a probability of re-arrest. The actual output is two-fold: a risk rating of 1-10 and a \"low\", \"medium\", or \"high\" risk label.\n",
    "\n",
    "Link to dataset: https://github.com/propublica/compas-analysis\n",
    "\n",
    "The file we will analyze is: compas-scores-two-years.csv\n",
    "\n",
    "Link to the ProPublica article:\n",
    "\n",
    "https://www.propublica.org/article/machine-bias-risk-assessments-in-criminal-sentencing\n",
    "\n",
    "\n",
    "## Project goal\n",
    "\n",
    "The project has three parts: \n",
    "\n",
    "- The COMPAS scores have been shown to have biases against certain racial groups. Analyze the dataset to highlight these biases.  \n",
    "\n",
    "- Based on the features in the COMPAS dataset, train classifiers to predict who will re-offend (hint: no need to use all features, just the ones you find relevant).  Study if your classifiers are more or less fair than the COMPAS classifier. \n",
    "\n",
    "- Build a fair classifier (last lecture will cover fair classification techniques). Is excluding the race from the feature set enough?\n",
    "\n",
    "\n",
    "## Today\n",
    "\n",
    "Explore the dataset and do some initial statistics. "
   ]
  },
  {
   "cell_type": "code",
   "execution_count": 5,
   "metadata": {
    "scrolled": false
   },
   "outputs": [
    {
     "name": "stdout",
     "output_type": "stream",
     "text": [
      "Looking for file '%s' in the current directory... compas-scores-two-years.csv\n",
      "File found in current directory..\n",
      "Index(['id', 'name', 'first', 'last', 'compas_screening_date', 'sex', 'dob',\n",
      "       'age', 'age_cat', 'race', 'juv_fel_count', 'decile_score',\n",
      "       'juv_misd_count', 'juv_other_count', 'priors_count',\n",
      "       'days_b_screening_arrest', 'c_jail_in', 'c_jail_out', 'c_case_number',\n",
      "       'c_offense_date', 'c_arrest_date', 'c_days_from_compas',\n",
      "       'c_charge_degree', 'c_charge_desc', 'is_recid', 'r_case_number',\n",
      "       'r_charge_degree', 'r_days_from_arrest', 'r_offense_date',\n",
      "       'r_charge_desc', 'r_jail_in', 'r_jail_out', 'violent_recid',\n",
      "       'is_violent_recid', 'vr_case_number', 'vr_charge_degree',\n",
      "       'vr_offense_date', 'vr_charge_desc', 'type_of_assessment',\n",
      "       'decile_score.1', 'score_text', 'screening_date',\n",
      "       'v_type_of_assessment', 'v_decile_score', 'v_score_text',\n",
      "       'v_screening_date', 'in_custody', 'out_custody', 'priors_count.1',\n",
      "       'start', 'end', 'event', 'two_year_recid'],\n",
      "      dtype='object')\n",
      "shape: (7214, 53)\n",
      "index (the amount of convict = 7214) : RangeIndex(start=0, stop=7214, step=1)\n",
      "Different features of the convicts (53): Index(['id', 'name', 'first', 'last', 'compas_screening_date', 'sex', 'dob',\n",
      "       'age', 'age_cat', 'race', 'juv_fel_count', 'decile_score',\n",
      "       'juv_misd_count', 'juv_other_count', 'priors_count',\n",
      "       'days_b_screening_arrest', 'c_jail_in', 'c_jail_out', 'c_case_number',\n",
      "       'c_offense_date', 'c_arrest_date', 'c_days_from_compas',\n",
      "       'c_charge_degree', 'c_charge_desc', 'is_recid', 'r_case_number',\n",
      "       'r_charge_degree', 'r_days_from_arrest', 'r_offense_date',\n",
      "       'r_charge_desc', 'r_jail_in', 'r_jail_out', 'violent_recid',\n",
      "       'is_violent_recid', 'vr_case_number', 'vr_charge_degree',\n",
      "       'vr_offense_date', 'vr_charge_desc', 'type_of_assessment',\n",
      "       'decile_score.1', 'score_text', 'screening_date',\n",
      "       'v_type_of_assessment', 'v_decile_score', 'v_score_text',\n",
      "       'v_screening_date', 'in_custody', 'out_custody', 'priors_count.1',\n",
      "       'start', 'end', 'event', 'two_year_recid'],\n",
      "      dtype='object')\n",
      "Display the first 3 rowns:   id                name   first         last compas_screening_date   sex  \\\n",
      "0   1    miguel hernandez  miguel    hernandez            2013-08-14  Male   \n",
      "1   3         kevon dixon   kevon        dixon            2013-01-27  Male   \n",
      "2   4            ed philo      ed        philo            2013-04-14  Male   \n",
      "3   5         marcu brown   marcu        brown            2013-01-13  Male   \n",
      "4   6  bouthy pierrelouis  bouthy  pierrelouis            2013-03-26  Male   \n",
      "\n",
      "          dob  age          age_cat              race  ...  v_decile_score  \\\n",
      "0  1947-04-18   69  Greater than 45             Other  ...               1   \n",
      "1  1982-01-22   34          25 - 45  African-American  ...               1   \n",
      "2  1991-05-14   24     Less than 25  African-American  ...               3   \n",
      "3  1993-01-21   23     Less than 25  African-American  ...               6   \n",
      "4  1973-01-22   43          25 - 45             Other  ...               1   \n",
      "\n",
      "   v_score_text  v_screening_date  in_custody  out_custody  priors_count.1  \\\n",
      "0           Low        2013-08-14  2014-07-07   2014-07-14               0   \n",
      "1           Low        2013-01-27  2013-01-26   2013-02-05               0   \n",
      "2           Low        2013-04-14  2013-06-16   2013-06-16               4   \n",
      "3        Medium        2013-01-13         NaN          NaN               1   \n",
      "4           Low        2013-03-26         NaN          NaN               2   \n",
      "\n",
      "  start   end event two_year_recid  \n",
      "0     0   327     0              0  \n",
      "1     9   159     1              1  \n",
      "2     0    63     0              1  \n",
      "3     0  1174     0              0  \n",
      "4     0  1102     0              0  \n",
      "\n",
      "[5 rows x 53 columns]\n",
      "         id                 name      first       last compas_screening_date  \\\n",
      "0         1     miguel hernandez     miguel  hernandez            2013-08-14   \n",
      "1         3          kevon dixon      kevon      dixon            2013-01-27   \n",
      "2         4             ed philo         ed      philo            2013-04-14   \n",
      "3         7         marsha miles     marsha      miles            2013-11-30   \n",
      "4         8        edward riddle     edward     riddle            2014-02-19   \n",
      "...     ...                  ...        ...        ...                   ...   \n",
      "6167  10996        steven butler     steven     butler            2013-11-23   \n",
      "6168  10997      malcolm simmons    malcolm    simmons            2014-02-01   \n",
      "6169  10999      winston gregory    winston    gregory            2014-01-14   \n",
      "6170  11000          farrah jean     farrah       jean            2014-03-09   \n",
      "6171  11001  florencia sanmartin  florencia  sanmartin            2014-06-30   \n",
      "\n",
      "         sex         dob  age          age_cat              race  ...  \\\n",
      "0       Male  1947-04-18   69  Greater than 45             Other  ...   \n",
      "1       Male  1982-01-22   34          25 - 45  African-American  ...   \n",
      "2       Male  1991-05-14   24     Less than 25  African-American  ...   \n",
      "3       Male  1971-08-22   44          25 - 45             Other  ...   \n",
      "4       Male  1974-07-23   41          25 - 45         Caucasian  ...   \n",
      "...      ...         ...  ...              ...               ...  ...   \n",
      "6167    Male  1992-07-17   23     Less than 25  African-American  ...   \n",
      "6168    Male  1993-03-25   23     Less than 25  African-American  ...   \n",
      "6169    Male  1958-10-01   57  Greater than 45             Other  ...   \n",
      "6170  Female  1982-11-17   33          25 - 45  African-American  ...   \n",
      "6171  Female  1992-12-18   23     Less than 25          Hispanic  ...   \n",
      "\n",
      "      v_decile_score  v_score_text  v_screening_date  in_custody  out_custody  \\\n",
      "0                  1           Low        2013-08-14  2014-07-07   2014-07-14   \n",
      "1                  1           Low        2013-01-27  2013-01-26   2013-02-05   \n",
      "2                  3           Low        2013-04-14  2013-06-16   2013-06-16   \n",
      "3                  1           Low        2013-11-30  2013-11-30   2013-12-01   \n",
      "4                  2           Low        2014-02-19  2014-03-31   2014-04-18   \n",
      "...              ...           ...               ...         ...          ...   \n",
      "6167               5        Medium        2013-11-23  2013-11-22   2013-11-24   \n",
      "6168               5        Medium        2014-02-01  2014-01-31   2014-02-02   \n",
      "6169               1           Low        2014-01-14  2014-01-13   2014-01-14   \n",
      "6170               2           Low        2014-03-09  2014-03-08   2014-03-09   \n",
      "6171               4           Low        2014-06-30  2015-03-15   2015-03-15   \n",
      "\n",
      "      priors_count.1 start  end event two_year_recid  \n",
      "0                  0     0  327     0              0  \n",
      "1                  0     9  159     1              1  \n",
      "2                  4     0   63     0              1  \n",
      "3                  0     1  853     0              0  \n",
      "4                 14     5   40     1              1  \n",
      "...              ...   ...  ...   ...            ...  \n",
      "6167               0     1  860     0              0  \n",
      "6168               0     1  790     0              0  \n",
      "6169               0     0  808     0              0  \n",
      "6170               3     0  754     0              0  \n",
      "6171               2     0  258     0              1  \n",
      "\n",
      "[6172 rows x 53 columns]\n",
      "(6172, 53)\n",
      "0                 Other\n",
      "1      African-American\n",
      "4             Caucasian\n",
      "13             Hispanic\n",
      "408               Asian\n",
      "646     Native American\n",
      "Name: race, dtype: object\n",
      "0    Greater than 45\n",
      "1            25 - 45\n",
      "2       Less than 25\n",
      "Name: age_cat, dtype: object\n"
     ]
    }
   ],
   "source": [
    "import urllib\n",
    "import os,sys\n",
    "import numpy as np\n",
    "import pandas as pd\n",
    "\n",
    "from sklearn import feature_extraction\n",
    "from sklearn import preprocessing\n",
    "from random import seed, shuffle\n",
    "#from __future__ import division\n",
    "#from collections import defaultdict\n",
    "#import utils as ut\n",
    "\n",
    "SEED = 1234\n",
    "seed(SEED)\n",
    "np.random.seed(SEED)\n",
    "\n",
    "def check_data_file(fname):\n",
    "    files = os.listdir(\".\") # get the current directory listing\n",
    "    print(\"Looking for file '%s' in the current directory...\",fname)\n",
    "\n",
    "    if fname not in files:\n",
    "        print(\"'%s' not found! Downloading from GitHub...\",fname)\n",
    "        addr = \"https://raw.githubusercontent.com/propublica/compas-analysis/master/compas-scores-two-years.csv\"\n",
    "        response = urllib.request.urlopen(addr)\n",
    "        data = response.read()\n",
    "        fileOut = open(fname, \"wb\")\n",
    "        fileOut.write(data)\n",
    "        fileOut.close()\n",
    "        print(\"'%s' download and saved locally..\",fname)\n",
    "    else:\n",
    "        print(\"File found in current directory..\")\n",
    "\n",
    "    \n",
    "COMPAS_INPUT_FILE = \"compas-scores-two-years.csv\"\n",
    "check_data_file(COMPAS_INPUT_FILE)\n",
    "\n",
    "table = pd.read_csv('compas-scores-two-years.csv',delimiter = ',')\n",
    "#print(table.isnull())#is null checks missing values in a table, return a table of boolean\n",
    "\n",
    "df = pd.read_csv(COMPAS_INPUT_FILE)   #df is a dataframe\n",
    "print(df.keys())\n",
    "\n",
    "\n",
    "\n",
    "\n",
    "\n",
    "df = df.dropna(subset=[\"days_b_screening_arrest\"]) # dropping missing vals (NaN for sure, also null???)\n",
    "\n",
    "df = df[\n",
    "    (df.days_b_screening_arrest <= 30) &  \n",
    "    (df.days_b_screening_arrest >= -30) &  \n",
    "    (df.is_recid != -1) &\n",
    "    (df.c_charge_degree != 'O') &\n",
    "    (df.score_text != 'N/A')\n",
    "]    # Only keep the values that forfull these constraints\n",
    "\n",
    "df.reset_index(inplace=True, drop=True) # renumber the rows from 0 again\n",
    "print(df)\n",
    "print(df.shape)\n",
    "\n",
    "print(df.race.drop_duplicates())\n",
    "print(df.age_cat.drop_duplicates())\n",
    "\n",
    "\n",
    "\n"
   ]
  },
  {
   "cell_type": "markdown",
   "metadata": {},
   "source": [
    "## Load data and clean it up\n",
    "\n",
    "__Load the data__\n",
    "\n",
    "hint: data is in csv format; pandas is a python library that can read csv files\n",
    "\n",
    "you can choose to represent your data either as a DataFrame or as a dictionary\n",
    "\n",
    "- The dataset contains data on how many convicts? \n",
    "\n",
    "- What are the features the dataset contains?\n",
    "\n",
    "hint pandas: check pandas functions shape, column, head\n",
    "\n",
    "hint dictionary: check keys() function"
   ]
  },
  {
   "cell_type": "code",
   "execution_count": 8,
   "metadata": {},
   "outputs": [
    {
     "name": "stdout",
     "output_type": "stream",
     "text": [
      "shape: (7214, 53)\n",
      "index (the amount of convict = 7214) : RangeIndex(start=0, stop=7214, step=1)\n",
      "Different features of the convicts (53): Index(['id', 'name', 'first', 'last', 'compas_screening_date', 'sex', 'dob',\n",
      "       'age', 'age_cat', 'race', 'juv_fel_count', 'decile_score',\n",
      "       'juv_misd_count', 'juv_other_count', 'priors_count',\n",
      "       'days_b_screening_arrest', 'c_jail_in', 'c_jail_out', 'c_case_number',\n",
      "       'c_offense_date', 'c_arrest_date', 'c_days_from_compas',\n",
      "       'c_charge_degree', 'c_charge_desc', 'is_recid', 'r_case_number',\n",
      "       'r_charge_degree', 'r_days_from_arrest', 'r_offense_date',\n",
      "       'r_charge_desc', 'r_jail_in', 'r_jail_out', 'violent_recid',\n",
      "       'is_violent_recid', 'vr_case_number', 'vr_charge_degree',\n",
      "       'vr_offense_date', 'vr_charge_desc', 'type_of_assessment',\n",
      "       'decile_score.1', 'score_text', 'screening_date',\n",
      "       'v_type_of_assessment', 'v_decile_score', 'v_score_text',\n",
      "       'v_screening_date', 'in_custody', 'out_custody', 'priors_count.1',\n",
      "       'start', 'end', 'event', 'two_year_recid'],\n",
      "      dtype='object')\n",
      "Different features of the convicts (53): Index(['id', 'name', 'first', 'last', 'compas_screening_date', 'sex', 'dob',\n",
      "       'age', 'age_cat', 'race', 'juv_fel_count', 'decile_score',\n",
      "       'juv_misd_count', 'juv_other_count', 'priors_count',\n",
      "       'days_b_screening_arrest', 'c_jail_in', 'c_jail_out', 'c_case_number',\n",
      "       'c_offense_date', 'c_arrest_date', 'c_days_from_compas',\n",
      "       'c_charge_degree', 'c_charge_desc', 'is_recid', 'r_case_number',\n",
      "       'r_charge_degree', 'r_days_from_arrest', 'r_offense_date',\n",
      "       'r_charge_desc', 'r_jail_in', 'r_jail_out', 'violent_recid',\n",
      "       'is_violent_recid', 'vr_case_number', 'vr_charge_degree',\n",
      "       'vr_offense_date', 'vr_charge_desc', 'type_of_assessment',\n",
      "       'decile_score.1', 'score_text', 'screening_date',\n",
      "       'v_type_of_assessment', 'v_decile_score', 'v_score_text',\n",
      "       'v_screening_date', 'in_custody', 'out_custody', 'priors_count.1',\n",
      "       'start', 'end', 'event', 'two_year_recid'],\n",
      "      dtype='object')\n",
      "index.value_counts (???): African-American    3696\n",
      "Caucasian           2454\n",
      "Hispanic             637\n",
      "Other                377\n",
      "Asian                 32\n",
      "Native American       18\n",
      "Name: race, dtype: int64\n",
      "Display the first 3 rowns:   id                name   first         last compas_screening_date   sex  \\\n",
      "0   1    miguel hernandez  miguel    hernandez            2013-08-14  Male   \n",
      "1   3         kevon dixon   kevon        dixon            2013-01-27  Male   \n",
      "2   4            ed philo      ed        philo            2013-04-14  Male   \n",
      "3   5         marcu brown   marcu        brown            2013-01-13  Male   \n",
      "4   6  bouthy pierrelouis  bouthy  pierrelouis            2013-03-26  Male   \n",
      "\n",
      "          dob  age          age_cat              race  ...  v_decile_score  \\\n",
      "0  1947-04-18   69  Greater than 45             Other  ...               1   \n",
      "1  1982-01-22   34          25 - 45  African-American  ...               1   \n",
      "2  1991-05-14   24     Less than 25  African-American  ...               3   \n",
      "3  1993-01-21   23     Less than 25  African-American  ...               6   \n",
      "4  1973-01-22   43          25 - 45             Other  ...               1   \n",
      "\n",
      "   v_score_text  v_screening_date  in_custody  out_custody  priors_count.1  \\\n",
      "0           Low        2013-08-14  2014-07-07   2014-07-14               0   \n",
      "1           Low        2013-01-27  2013-01-26   2013-02-05               0   \n",
      "2           Low        2013-04-14  2013-06-16   2013-06-16               4   \n",
      "3        Medium        2013-01-13         NaN          NaN               1   \n",
      "4           Low        2013-03-26         NaN          NaN               2   \n",
      "\n",
      "  start   end event two_year_recid  \n",
      "0     0   327     0              0  \n",
      "1     9   159     1              1  \n",
      "2     0    63     0              1  \n",
      "3     0  1174     0              0  \n",
      "4     0  1102     0              0  \n",
      "\n",
      "[5 rows x 53 columns]\n",
      "         id   name  first   last  compas_screening_date    sex    dob    age  \\\n",
      "0     False  False  False  False                  False  False  False  False   \n",
      "1     False  False  False  False                  False  False  False  False   \n",
      "2     False  False  False  False                  False  False  False  False   \n",
      "3     False  False  False  False                  False  False  False  False   \n",
      "4     False  False  False  False                  False  False  False  False   \n",
      "...     ...    ...    ...    ...                    ...    ...    ...    ...   \n",
      "7209  False  False  False  False                  False  False  False  False   \n",
      "7210  False  False  False  False                  False  False  False  False   \n",
      "7211  False  False  False  False                  False  False  False  False   \n",
      "7212  False  False  False  False                  False  False  False  False   \n",
      "7213  False  False  False  False                  False  False  False  False   \n",
      "\n",
      "      age_cat   race  ...  v_decile_score  v_score_text  v_screening_date  \\\n",
      "0       False  False  ...           False         False             False   \n",
      "1       False  False  ...           False         False             False   \n",
      "2       False  False  ...           False         False             False   \n",
      "3       False  False  ...           False         False             False   \n",
      "4       False  False  ...           False         False             False   \n",
      "...       ...    ...  ...             ...           ...               ...   \n",
      "7209    False  False  ...           False         False             False   \n",
      "7210    False  False  ...           False         False             False   \n",
      "7211    False  False  ...           False         False             False   \n",
      "7212    False  False  ...           False         False             False   \n",
      "7213    False  False  ...           False         False             False   \n",
      "\n",
      "      in_custody  out_custody  priors_count.1  start    end  event  \\\n",
      "0          False        False           False  False  False  False   \n",
      "1          False        False           False  False  False  False   \n",
      "2          False        False           False  False  False  False   \n",
      "3           True         True           False  False  False  False   \n",
      "4           True         True           False  False  False  False   \n",
      "...          ...          ...             ...    ...    ...    ...   \n",
      "7209       False        False           False  False  False  False   \n",
      "7210       False        False           False  False  False  False   \n",
      "7211       False        False           False  False  False  False   \n",
      "7212       False        False           False  False  False  False   \n",
      "7213       False        False           False  False  False  False   \n",
      "\n",
      "      two_year_recid  \n",
      "0              False  \n",
      "1              False  \n",
      "2              False  \n",
      "3              False  \n",
      "4              False  \n",
      "...              ...  \n",
      "7209           False  \n",
      "7210           False  \n",
      "7211           False  \n",
      "7212           False  \n",
      "7213           False  \n",
      "\n",
      "[7214 rows x 53 columns]\n"
     ]
    }
   ],
   "source": [
    "df = pd.read_csv(COMPAS_INPUT_FILE)   #df is a dataframe\n",
    "\n",
    "print(\"shape: \" + str(df.shape))   # Tuple representing the dimensionality\n",
    "print(\"index (the amount of convict = 7214) : \" + str(df.index))   # The index (row labels) of the DataFrame.\n",
    "print(\"Different features of the convicts (53): \" + str(df.columns))\n",
    "print(\"Different features of the convicts (53): \" + str(df.keys())) # we can also use keys()\n",
    "print(\"index.value_counts (???): \" + str(df['race'].value_counts())) # count the unique values in a column\n",
    "print(\"Display the first 3 rowns:\" + str(df.head(5)))\n",
    "\n",
    "table = pd.read_csv('compas-scores-two-years.csv',delimiter = ',')\n",
    "print(table.isnull())#is null checks missing values in a table, return a table of boolean\n",
    "\n",
    "\n"
   ]
  },
  {
   "cell_type": "markdown",
   "metadata": {},
   "source": [
    "__Cleanup the data__\n",
    "\n",
    "- Are there missing values (NaN)? are there outliers?  \n",
    "\n",
    "hint pandas: check isnull function in pandas\n",
    "\n",
    "hint dictionary: implement a for and check if the variable is None\n",
    "\n",
    "- Does ProPublica mentions how to clean the data?\n",
    " -> NO!"
   ]
  },
  {
   "cell_type": "markdown",
   "metadata": {},
   "source": [
    "__What is the effect of the following function?__\n",
    "\n",
    "df = pd.read_csv(COMPAS_INPUT_FILE)\n",
    "\n",
    "print(df.shape)\n",
    "\n",
    "df = df.dropna(subset=[\"days_b_screening_arrest\"]) # dropping missing vals\n",
    "\n",
    "df = df[\n",
    "    (df.days_b_screening_arrest <= 30) &  \n",
    "    (df.days_b_screening_arrest >= -30) &  \n",
    "    (df.is_recid != -1) &\n",
    "    (df.c_charge_degree != 'O') &\n",
    "    (df.score_text != 'N/A')\n",
    "]\n",
    "\n",
    "df.reset_index(inplace=True, drop=True) # renumber the rows from 0 again"
   ]
  },
  {
   "cell_type": "markdown",
   "metadata": {},
   "source": [
    "## Basic analysis of demographics\n",
    "\n",
    "- What are the different races present in the dataset? "
   ]
  },
  {
   "cell_type": "code",
   "execution_count": 26,
   "metadata": {},
   "outputs": [
    {
     "name": "stdout",
     "output_type": "stream",
     "text": [
      "['Other' 'African-American' 'Caucasian' 'Hispanic' 'Native American'\n",
      " 'Asian']\n"
     ]
    }
   ],
   "source": [
    "print(df.race.drop_duplicates().values)"
   ]
  },
  {
   "cell_type": "markdown",
   "metadata": {},
   "source": [
    "- What is the number of people by age category?"
   ]
  },
  {
   "cell_type": "code",
   "execution_count": 29,
   "metadata": {},
   "outputs": [
    {
     "name": "stdout",
     "output_type": "stream",
     "text": [
      "number of people by age category: \n",
      "25 - 45            4109\n",
      "Greater than 45    1576\n",
      "Less than 25       1529\n",
      "Name: age_cat, dtype: int64\n"
     ]
    }
   ],
   "source": [
    "print(\"number of people by age category: \\n\" + str(df['age_cat'].value_counts())) # count the unique values in a column"
   ]
  },
  {
   "cell_type": "markdown",
   "metadata": {},
   "source": [
    "- What is the number of people by race?"
   ]
  },
  {
   "cell_type": "code",
   "execution_count": 28,
   "metadata": {},
   "outputs": [
    {
     "name": "stdout",
     "output_type": "stream",
     "text": [
      "number of people by race: \n",
      "African-American    3696\n",
      "Caucasian           2454\n",
      "Hispanic             637\n",
      "Other                377\n",
      "Asian                 32\n",
      "Native American       18\n",
      "Name: race, dtype: int64\n"
     ]
    }
   ],
   "source": [
    "print(\"number of people by race: \\n\" + str(df['race'].value_counts())) # count the unique values in a column"
   ]
  },
  {
   "cell_type": "markdown",
   "metadata": {},
   "source": [
    "- What is the number of people by COMPAS score (decile_score)?"
   ]
  },
  {
   "cell_type": "code",
   "execution_count": 30,
   "metadata": {},
   "outputs": [
    {
     "name": "stdout",
     "output_type": "stream",
     "text": [
      "number of people by COMPAS score: \n",
      "1     1440\n",
      "2      941\n",
      "4      769\n",
      "3      747\n",
      "5      681\n",
      "6      641\n",
      "7      592\n",
      "8      512\n",
      "9      508\n",
      "10     383\n",
      "Name: decile_score, dtype: int64\n"
     ]
    }
   ],
   "source": [
    "print(\"number of people by COMPAS score: \\n\" + str(df['decile_score'].value_counts())) # count the unique values in a column"
   ]
  },
  {
   "cell_type": "markdown",
   "metadata": {},
   "source": [
    "- What is the number of people by COMPAS risk category (score_text)?"
   ]
  },
  {
   "cell_type": "code",
   "execution_count": 31,
   "metadata": {},
   "outputs": [
    {
     "name": "stdout",
     "output_type": "stream",
     "text": [
      "number of people by COMPAS risk category: \n",
      "Low       3897\n",
      "Medium    1914\n",
      "High      1403\n",
      "Name: score_text, dtype: int64\n"
     ]
    }
   ],
   "source": [
    "print(\"number of people by COMPAS risk category: \\n\" + str(df['score_text'].value_counts())) # count the unique values in a column"
   ]
  },
  {
   "cell_type": "markdown",
   "metadata": {},
   "source": [
    "## Basic investigations of gender and race bias in COMPAS scores\n",
    "\n",
    "decile_score -- is the score given by the COMPAS algorithm that estimates the risk to re-offend.\n",
    "\n",
    "score_text -- is the level of risk: Low, Medium, High\n",
    "\n",
    "two_years_recid -- is the ground truth data on whether the offender recidivated or not\n",
    "\n",
    "- What is the mean COMPAS score (decile_score) per race and gender? "
   ]
  },
  {
   "cell_type": "code",
   "execution_count": 48,
   "metadata": {},
   "outputs": [
    {
     "name": "stdout",
     "output_type": "stream",
     "text": [
      "<pandas.core.groupby.generic.DataFrameGroupBy object at 0x7f9dc1641198>\n"
     ]
    }
   ],
   "source": [
    "tab = df[['decile_score','race','sex']]\n",
    "stat = tab.groupby(['race', 'sex'])\n",
    "print(stat.mean())"
   ]
  },
  {
   "cell_type": "markdown",
   "metadata": {},
   "source": [
    "- What is the distribution (histogram) of decile_score per race and gender? "
   ]
  },
  {
   "cell_type": "code",
   "execution_count": 59,
   "metadata": {},
   "outputs": [
    {
     "data": {
      "text/plain": [
       "race              sex   \n",
       "African-American  Female    AxesSubplot(0.125,0.125;0.775x0.755)\n",
       "                  Male      AxesSubplot(0.125,0.125;0.775x0.755)\n",
       "Asian             Female    AxesSubplot(0.125,0.125;0.775x0.755)\n",
       "                  Male      AxesSubplot(0.125,0.125;0.775x0.755)\n",
       "Caucasian         Female    AxesSubplot(0.125,0.125;0.775x0.755)\n",
       "                  Male      AxesSubplot(0.125,0.125;0.775x0.755)\n",
       "Hispanic          Female    AxesSubplot(0.125,0.125;0.775x0.755)\n",
       "                  Male      AxesSubplot(0.125,0.125;0.775x0.755)\n",
       "Native American   Female    AxesSubplot(0.125,0.125;0.775x0.755)\n",
       "                  Male      AxesSubplot(0.125,0.125;0.775x0.755)\n",
       "Other             Female    AxesSubplot(0.125,0.125;0.775x0.755)\n",
       "                  Male      AxesSubplot(0.125,0.125;0.775x0.755)\n",
       "Name: decile_score, dtype: object"
      ]
     },
     "execution_count": 59,
     "metadata": {},
     "output_type": "execute_result"
    },
    {
     "data": {
      "image/png": "[encoded data removed]",
      "text/plain": [
       "<Figure size 432x288 with 1 Axes>"
      ]
     },
     "metadata": {
      "needs_background": "light"
     },
     "output_type": "display_data"
    }
   ],
   "source": [
    "stat['decile_score'].hist(bins=12)"
   ]
  },
  {
   "cell_type": "markdown",
   "metadata": {},
   "source": [
    "The two_year_recid field records whether or not each person was re-arrested for a violent offense within two years, which is what COMPAS is trying to predict.\n",
    "\n",
    "- How many people were re-arrested? \n",
    "\n",
    "- Compute the recidivism (i.e., people that got re-arrested) rates by race and gender\n",
    "\n",
    "- What is the accuracy of the COMPAS scores to predict recidivism\n",
    "\n",
    "- Is the accuracy higher/lower if we look at particular races/genders?\n",
    "\n",
    "- What about false positives and false negatives?"
   ]
  },
  {
   "cell_type": "code",
   "execution_count": null,
   "metadata": {},
   "outputs": [],
   "source": []
  }
 ],
 "metadata": {
  "kernelspec": {
   "display_name": "Python 3",
   "language": "python",
   "name": "python3"
  },
  "language_info": {
   "codemirror_mode": {
    "name": "ipython",
    "version": 3
   },
   "file_extension": ".py",
   "mimetype": "text/x-python",
   "name": "python",
   "nbconvert_exporter": "python",
   "pygments_lexer": "ipython3",
   "version": "3.7.3"
  }
 },
 "nbformat": 4,
 "nbformat_minor": 4
}
